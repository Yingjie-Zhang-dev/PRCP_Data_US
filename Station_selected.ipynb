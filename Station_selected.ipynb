{
 "cells": [
  {
   "cell_type": "markdown",
   "metadata": {},
   "source": [
    "# This file works for selecting 2 stations with the smallest missing value in each city.\n",
    "---"
   ]
  },
  {
   "cell_type": "markdown",
   "metadata": {},
   "source": [
    "# Seattle"
   ]
  },
  {
   "cell_type": "code",
   "execution_count": 2,
   "metadata": {},
   "outputs": [
    {
     "data": {
      "text/html": [
       "<div>\n",
       "<style scoped>\n",
       "    .dataframe tbody tr th:only-of-type {\n",
       "        vertical-align: middle;\n",
       "    }\n",
       "\n",
       "    .dataframe tbody tr th {\n",
       "        vertical-align: top;\n",
       "    }\n",
       "\n",
       "    .dataframe thead th {\n",
       "        text-align: right;\n",
       "    }\n",
       "</style>\n",
       "<table border=\"1\" class=\"dataframe\">\n",
       "  <thead>\n",
       "    <tr style=\"text-align: right;\">\n",
       "      <th></th>\n",
       "      <th>STATION</th>\n",
       "      <th>NAME</th>\n",
       "      <th>LATITUDE</th>\n",
       "      <th>LONGITUDE</th>\n",
       "      <th>ELEVATION</th>\n",
       "      <th>DATE</th>\n",
       "      <th>DAPR</th>\n",
       "      <th>DAPR_ATTRIBUTES</th>\n",
       "      <th>MDPR</th>\n",
       "      <th>MDPR_ATTRIBUTES</th>\n",
       "      <th>PRCP</th>\n",
       "      <th>PRCP_ATTRIBUTES</th>\n",
       "      <th>SNOW</th>\n",
       "      <th>SNOW_ATTRIBUTES</th>\n",
       "      <th>SNWD</th>\n",
       "      <th>SNWD_ATTRIBUTES</th>\n",
       "    </tr>\n",
       "  </thead>\n",
       "  <tbody>\n",
       "    <tr>\n",
       "      <th>0</th>\n",
       "      <td>USC00456295</td>\n",
       "      <td>PALMER 3 ESE, WA US</td>\n",
       "      <td>47.308890</td>\n",
       "      <td>-121.855560</td>\n",
       "      <td>268.8</td>\n",
       "      <td>2003/1/1</td>\n",
       "      <td>NaN</td>\n",
       "      <td>NaN</td>\n",
       "      <td>NaN</td>\n",
       "      <td>NaN</td>\n",
       "      <td>0.01</td>\n",
       "      <td>,,0,0800</td>\n",
       "      <td>NaN</td>\n",
       "      <td>NaN</td>\n",
       "      <td>NaN</td>\n",
       "      <td>NaN</td>\n",
       "    </tr>\n",
       "    <tr>\n",
       "      <th>1</th>\n",
       "      <td>USC00456295</td>\n",
       "      <td>PALMER 3 ESE, WA US</td>\n",
       "      <td>47.308890</td>\n",
       "      <td>-121.855560</td>\n",
       "      <td>268.8</td>\n",
       "      <td>2003/1/2</td>\n",
       "      <td>NaN</td>\n",
       "      <td>NaN</td>\n",
       "      <td>NaN</td>\n",
       "      <td>NaN</td>\n",
       "      <td>1.38</td>\n",
       "      <td>,,0,0800</td>\n",
       "      <td>NaN</td>\n",
       "      <td>NaN</td>\n",
       "      <td>NaN</td>\n",
       "      <td>NaN</td>\n",
       "    </tr>\n",
       "    <tr>\n",
       "      <th>2</th>\n",
       "      <td>USC00456295</td>\n",
       "      <td>PALMER 3 ESE, WA US</td>\n",
       "      <td>47.308890</td>\n",
       "      <td>-121.855560</td>\n",
       "      <td>268.8</td>\n",
       "      <td>2003/1/3</td>\n",
       "      <td>NaN</td>\n",
       "      <td>NaN</td>\n",
       "      <td>NaN</td>\n",
       "      <td>NaN</td>\n",
       "      <td>0.49</td>\n",
       "      <td>,,0,0800</td>\n",
       "      <td>NaN</td>\n",
       "      <td>NaN</td>\n",
       "      <td>NaN</td>\n",
       "      <td>NaN</td>\n",
       "    </tr>\n",
       "    <tr>\n",
       "      <th>3</th>\n",
       "      <td>USC00456295</td>\n",
       "      <td>PALMER 3 ESE, WA US</td>\n",
       "      <td>47.308890</td>\n",
       "      <td>-121.855560</td>\n",
       "      <td>268.8</td>\n",
       "      <td>2003/1/4</td>\n",
       "      <td>NaN</td>\n",
       "      <td>NaN</td>\n",
       "      <td>NaN</td>\n",
       "      <td>NaN</td>\n",
       "      <td>0.33</td>\n",
       "      <td>,,0,0800</td>\n",
       "      <td>NaN</td>\n",
       "      <td>NaN</td>\n",
       "      <td>NaN</td>\n",
       "      <td>NaN</td>\n",
       "    </tr>\n",
       "    <tr>\n",
       "      <th>4</th>\n",
       "      <td>USC00456295</td>\n",
       "      <td>PALMER 3 ESE, WA US</td>\n",
       "      <td>47.308890</td>\n",
       "      <td>-121.855560</td>\n",
       "      <td>268.8</td>\n",
       "      <td>2003/1/5</td>\n",
       "      <td>NaN</td>\n",
       "      <td>NaN</td>\n",
       "      <td>NaN</td>\n",
       "      <td>NaN</td>\n",
       "      <td>0.79</td>\n",
       "      <td>,,0,0800</td>\n",
       "      <td>NaN</td>\n",
       "      <td>NaN</td>\n",
       "      <td>NaN</td>\n",
       "      <td>NaN</td>\n",
       "    </tr>\n",
       "    <tr>\n",
       "      <th>...</th>\n",
       "      <td>...</td>\n",
       "      <td>...</td>\n",
       "      <td>...</td>\n",
       "      <td>...</td>\n",
       "      <td>...</td>\n",
       "      <td>...</td>\n",
       "      <td>...</td>\n",
       "      <td>...</td>\n",
       "      <td>...</td>\n",
       "      <td>...</td>\n",
       "      <td>...</td>\n",
       "      <td>...</td>\n",
       "      <td>...</td>\n",
       "      <td>...</td>\n",
       "      <td>...</td>\n",
       "      <td>...</td>\n",
       "    </tr>\n",
       "    <tr>\n",
       "      <th>72592</th>\n",
       "      <td>US1WASN0027</td>\n",
       "      <td>EVERETT 2.4 NNW, WA US</td>\n",
       "      <td>47.996751</td>\n",
       "      <td>-122.209573</td>\n",
       "      <td>31.7</td>\n",
       "      <td>2016-12-27</td>\n",
       "      <td>NaN</td>\n",
       "      <td>NaN</td>\n",
       "      <td>NaN</td>\n",
       "      <td>NaN</td>\n",
       "      <td>0.14</td>\n",
       "      <td>,,N</td>\n",
       "      <td>NaN</td>\n",
       "      <td>NaN</td>\n",
       "      <td>NaN</td>\n",
       "      <td>NaN</td>\n",
       "    </tr>\n",
       "    <tr>\n",
       "      <th>72593</th>\n",
       "      <td>US1WASN0027</td>\n",
       "      <td>EVERETT 2.4 NNW, WA US</td>\n",
       "      <td>47.996751</td>\n",
       "      <td>-122.209573</td>\n",
       "      <td>31.7</td>\n",
       "      <td>2016-12-28</td>\n",
       "      <td>NaN</td>\n",
       "      <td>NaN</td>\n",
       "      <td>NaN</td>\n",
       "      <td>NaN</td>\n",
       "      <td>0.03</td>\n",
       "      <td>,,N</td>\n",
       "      <td>NaN</td>\n",
       "      <td>NaN</td>\n",
       "      <td>NaN</td>\n",
       "      <td>NaN</td>\n",
       "    </tr>\n",
       "    <tr>\n",
       "      <th>72594</th>\n",
       "      <td>US1WASN0027</td>\n",
       "      <td>EVERETT 2.4 NNW, WA US</td>\n",
       "      <td>47.996751</td>\n",
       "      <td>-122.209573</td>\n",
       "      <td>31.7</td>\n",
       "      <td>2016-12-29</td>\n",
       "      <td>NaN</td>\n",
       "      <td>NaN</td>\n",
       "      <td>NaN</td>\n",
       "      <td>NaN</td>\n",
       "      <td>0.00</td>\n",
       "      <td>,,N</td>\n",
       "      <td>0.0</td>\n",
       "      <td>,,N</td>\n",
       "      <td>NaN</td>\n",
       "      <td>NaN</td>\n",
       "    </tr>\n",
       "    <tr>\n",
       "      <th>72595</th>\n",
       "      <td>US1WASN0027</td>\n",
       "      <td>EVERETT 2.4 NNW, WA US</td>\n",
       "      <td>47.996751</td>\n",
       "      <td>-122.209573</td>\n",
       "      <td>31.7</td>\n",
       "      <td>2016-12-30</td>\n",
       "      <td>NaN</td>\n",
       "      <td>NaN</td>\n",
       "      <td>NaN</td>\n",
       "      <td>NaN</td>\n",
       "      <td>0.40</td>\n",
       "      <td>,,N</td>\n",
       "      <td>NaN</td>\n",
       "      <td>NaN</td>\n",
       "      <td>NaN</td>\n",
       "      <td>NaN</td>\n",
       "    </tr>\n",
       "    <tr>\n",
       "      <th>72596</th>\n",
       "      <td>US1WASN0027</td>\n",
       "      <td>EVERETT 2.4 NNW, WA US</td>\n",
       "      <td>47.996751</td>\n",
       "      <td>-122.209573</td>\n",
       "      <td>31.7</td>\n",
       "      <td>2016-12-31</td>\n",
       "      <td>NaN</td>\n",
       "      <td>NaN</td>\n",
       "      <td>NaN</td>\n",
       "      <td>NaN</td>\n",
       "      <td>0.01</td>\n",
       "      <td>,,N</td>\n",
       "      <td>NaN</td>\n",
       "      <td>NaN</td>\n",
       "      <td>NaN</td>\n",
       "      <td>NaN</td>\n",
       "    </tr>\n",
       "  </tbody>\n",
       "</table>\n",
       "<p>330209 rows × 16 columns</p>\n",
       "</div>"
      ],
      "text/plain": [
       "           STATION                    NAME   LATITUDE   LONGITUDE  ELEVATION  \\\n",
       "0      USC00456295     PALMER 3 ESE, WA US  47.308890 -121.855560      268.8   \n",
       "1      USC00456295     PALMER 3 ESE, WA US  47.308890 -121.855560      268.8   \n",
       "2      USC00456295     PALMER 3 ESE, WA US  47.308890 -121.855560      268.8   \n",
       "3      USC00456295     PALMER 3 ESE, WA US  47.308890 -121.855560      268.8   \n",
       "4      USC00456295     PALMER 3 ESE, WA US  47.308890 -121.855560      268.8   \n",
       "...            ...                     ...        ...         ...        ...   \n",
       "72592  US1WASN0027  EVERETT 2.4 NNW, WA US  47.996751 -122.209573       31.7   \n",
       "72593  US1WASN0027  EVERETT 2.4 NNW, WA US  47.996751 -122.209573       31.7   \n",
       "72594  US1WASN0027  EVERETT 2.4 NNW, WA US  47.996751 -122.209573       31.7   \n",
       "72595  US1WASN0027  EVERETT 2.4 NNW, WA US  47.996751 -122.209573       31.7   \n",
       "72596  US1WASN0027  EVERETT 2.4 NNW, WA US  47.996751 -122.209573       31.7   \n",
       "\n",
       "             DATE  DAPR DAPR_ATTRIBUTES  MDPR MDPR_ATTRIBUTES  PRCP  \\\n",
       "0        2003/1/1   NaN             NaN   NaN             NaN  0.01   \n",
       "1        2003/1/2   NaN             NaN   NaN             NaN  1.38   \n",
       "2        2003/1/3   NaN             NaN   NaN             NaN  0.49   \n",
       "3        2003/1/4   NaN             NaN   NaN             NaN  0.33   \n",
       "4        2003/1/5   NaN             NaN   NaN             NaN  0.79   \n",
       "...           ...   ...             ...   ...             ...   ...   \n",
       "72592  2016-12-27   NaN             NaN   NaN             NaN  0.14   \n",
       "72593  2016-12-28   NaN             NaN   NaN             NaN  0.03   \n",
       "72594  2016-12-29   NaN             NaN   NaN             NaN  0.00   \n",
       "72595  2016-12-30   NaN             NaN   NaN             NaN  0.40   \n",
       "72596  2016-12-31   NaN             NaN   NaN             NaN  0.01   \n",
       "\n",
       "      PRCP_ATTRIBUTES  SNOW SNOW_ATTRIBUTES  SNWD SNWD_ATTRIBUTES  \n",
       "0            ,,0,0800   NaN             NaN   NaN             NaN  \n",
       "1            ,,0,0800   NaN             NaN   NaN             NaN  \n",
       "2            ,,0,0800   NaN             NaN   NaN             NaN  \n",
       "3            ,,0,0800   NaN             NaN   NaN             NaN  \n",
       "4            ,,0,0800   NaN             NaN   NaN             NaN  \n",
       "...               ...   ...             ...   ...             ...  \n",
       "72592             ,,N   NaN             NaN   NaN             NaN  \n",
       "72593             ,,N   NaN             NaN   NaN             NaN  \n",
       "72594             ,,N   0.0             ,,N   NaN             NaN  \n",
       "72595             ,,N   NaN             NaN   NaN             NaN  \n",
       "72596             ,,N   NaN             NaN   NaN             NaN  \n",
       "\n",
       "[330209 rows x 16 columns]"
      ]
     },
     "execution_count": 2,
     "metadata": {},
     "output_type": "execute_result"
    }
   ],
   "source": [
    "import pandas as pd\n",
    "\n",
    "def read_and_combine(*filepaths):\n",
    "    data_frames = [pd.read_csv(filepath) for filepath in filepaths]\n",
    "    combined_data = pd.concat(data_frames)\n",
    "    return combined_data\n",
    "\n",
    "filepaths = [\n",
    "    'seattle0304.csv',\n",
    "    'seattle0506.csv',\n",
    "    'seattle0708.csv',\n",
    "    'seattle0910.csv',\n",
    "    'seattle1112.csv',\n",
    "    'seattle1314.csv',\n",
    "    'seattle1516.csv'\n",
    "]\n",
    "\n",
    "data = read_and_combine(*filepaths)\n",
    "data"
   ]
  },
  {
   "cell_type": "code",
   "execution_count": 3,
   "metadata": {},
   "outputs": [
    {
     "data": {
      "text/html": [
       "<div>\n",
       "<style scoped>\n",
       "    .dataframe tbody tr th:only-of-type {\n",
       "        vertical-align: middle;\n",
       "    }\n",
       "\n",
       "    .dataframe tbody tr th {\n",
       "        vertical-align: top;\n",
       "    }\n",
       "\n",
       "    .dataframe thead th {\n",
       "        text-align: right;\n",
       "    }\n",
       "</style>\n",
       "<table border=\"1\" class=\"dataframe\">\n",
       "  <thead>\n",
       "    <tr style=\"text-align: right;\">\n",
       "      <th></th>\n",
       "      <th>STATION</th>\n",
       "      <th>NAME</th>\n",
       "      <th>LATITUDE</th>\n",
       "      <th>LONGITUDE</th>\n",
       "      <th>ELEVATION</th>\n",
       "      <th>DATE</th>\n",
       "      <th>DAPR</th>\n",
       "      <th>DAPR_ATTRIBUTES</th>\n",
       "      <th>MDPR</th>\n",
       "      <th>MDPR_ATTRIBUTES</th>\n",
       "      <th>PRCP</th>\n",
       "      <th>PRCP_ATTRIBUTES</th>\n",
       "      <th>SNOW</th>\n",
       "      <th>SNOW_ATTRIBUTES</th>\n",
       "      <th>SNWD</th>\n",
       "      <th>SNWD_ATTRIBUTES</th>\n",
       "    </tr>\n",
       "  </thead>\n",
       "  <tbody>\n",
       "    <tr>\n",
       "      <th>0</th>\n",
       "      <td>USC00456295</td>\n",
       "      <td>PALMER 3 ESE, WA US</td>\n",
       "      <td>47.308890</td>\n",
       "      <td>-121.855560</td>\n",
       "      <td>268.8</td>\n",
       "      <td>2003-01-01</td>\n",
       "      <td>NaN</td>\n",
       "      <td>NaN</td>\n",
       "      <td>NaN</td>\n",
       "      <td>NaN</td>\n",
       "      <td>0.01</td>\n",
       "      <td>,,0,0800</td>\n",
       "      <td>NaN</td>\n",
       "      <td>NaN</td>\n",
       "      <td>NaN</td>\n",
       "      <td>NaN</td>\n",
       "    </tr>\n",
       "    <tr>\n",
       "      <th>3339</th>\n",
       "      <td>USC00459021</td>\n",
       "      <td>WAUNA 3 W, WA US</td>\n",
       "      <td>47.372500</td>\n",
       "      <td>-122.702700</td>\n",
       "      <td>5.2</td>\n",
       "      <td>2003-01-01</td>\n",
       "      <td>NaN</td>\n",
       "      <td>NaN</td>\n",
       "      <td>NaN</td>\n",
       "      <td>NaN</td>\n",
       "      <td>0.07</td>\n",
       "      <td>,,0,0800</td>\n",
       "      <td>NaN</td>\n",
       "      <td>NaN</td>\n",
       "      <td>NaN</td>\n",
       "      <td>NaN</td>\n",
       "    </tr>\n",
       "    <tr>\n",
       "      <th>6994</th>\n",
       "      <td>USW00094248</td>\n",
       "      <td>RENTON MUNICIPAL AIRPORT, WA US</td>\n",
       "      <td>47.495130</td>\n",
       "      <td>-122.214420</td>\n",
       "      <td>5.5</td>\n",
       "      <td>2003-01-01</td>\n",
       "      <td>NaN</td>\n",
       "      <td>NaN</td>\n",
       "      <td>NaN</td>\n",
       "      <td>NaN</td>\n",
       "      <td>0.92</td>\n",
       "      <td>,,W</td>\n",
       "      <td>NaN</td>\n",
       "      <td>NaN</td>\n",
       "      <td>NaN</td>\n",
       "      <td>NaN</td>\n",
       "    </tr>\n",
       "    <tr>\n",
       "      <th>2608</th>\n",
       "      <td>USW00094274</td>\n",
       "      <td>TACOMA NARROWS AIRPORT, WA US</td>\n",
       "      <td>47.267440</td>\n",
       "      <td>-122.576230</td>\n",
       "      <td>88.4</td>\n",
       "      <td>2003-01-01</td>\n",
       "      <td>NaN</td>\n",
       "      <td>NaN</td>\n",
       "      <td>NaN</td>\n",
       "      <td>NaN</td>\n",
       "      <td>1.12</td>\n",
       "      <td>,,W</td>\n",
       "      <td>NaN</td>\n",
       "      <td>NaN</td>\n",
       "      <td>NaN</td>\n",
       "      <td>NaN</td>\n",
       "    </tr>\n",
       "    <tr>\n",
       "      <th>10579</th>\n",
       "      <td>USC00454169</td>\n",
       "      <td>KENT, WA US</td>\n",
       "      <td>47.417350</td>\n",
       "      <td>-122.243300</td>\n",
       "      <td>8.8</td>\n",
       "      <td>2003-01-01</td>\n",
       "      <td>NaN</td>\n",
       "      <td>NaN</td>\n",
       "      <td>NaN</td>\n",
       "      <td>NaN</td>\n",
       "      <td>0.76</td>\n",
       "      <td>,,0,1700</td>\n",
       "      <td>NaN</td>\n",
       "      <td>NaN</td>\n",
       "      <td>NaN</td>\n",
       "      <td>NaN</td>\n",
       "    </tr>\n",
       "    <tr>\n",
       "      <th>...</th>\n",
       "      <td>...</td>\n",
       "      <td>...</td>\n",
       "      <td>...</td>\n",
       "      <td>...</td>\n",
       "      <td>...</td>\n",
       "      <td>...</td>\n",
       "      <td>...</td>\n",
       "      <td>...</td>\n",
       "      <td>...</td>\n",
       "      <td>...</td>\n",
       "      <td>...</td>\n",
       "      <td>...</td>\n",
       "      <td>...</td>\n",
       "      <td>...</td>\n",
       "      <td>...</td>\n",
       "      <td>...</td>\n",
       "    </tr>\n",
       "    <tr>\n",
       "      <th>55222</th>\n",
       "      <td>US1WAKG0007</td>\n",
       "      <td>NORTH BEND 2.8 SE, WA US</td>\n",
       "      <td>47.468918</td>\n",
       "      <td>-121.744997</td>\n",
       "      <td>157.6</td>\n",
       "      <td>2016-12-31</td>\n",
       "      <td>NaN</td>\n",
       "      <td>NaN</td>\n",
       "      <td>NaN</td>\n",
       "      <td>NaN</td>\n",
       "      <td>0.00</td>\n",
       "      <td>,,N</td>\n",
       "      <td>0.0</td>\n",
       "      <td>,,N</td>\n",
       "      <td>NaN</td>\n",
       "      <td>NaN</td>\n",
       "    </tr>\n",
       "    <tr>\n",
       "      <th>13222</th>\n",
       "      <td>US1WAKG0052</td>\n",
       "      <td>SEATTLE 5.6 SSW, WA US</td>\n",
       "      <td>47.543167</td>\n",
       "      <td>-122.381017</td>\n",
       "      <td>113.1</td>\n",
       "      <td>2016-12-31</td>\n",
       "      <td>NaN</td>\n",
       "      <td>NaN</td>\n",
       "      <td>NaN</td>\n",
       "      <td>NaN</td>\n",
       "      <td>0.01</td>\n",
       "      <td>,,N</td>\n",
       "      <td>NaN</td>\n",
       "      <td>NaN</td>\n",
       "      <td>NaN</td>\n",
       "      <td>NaN</td>\n",
       "    </tr>\n",
       "    <tr>\n",
       "      <th>64165</th>\n",
       "      <td>USC00454486</td>\n",
       "      <td>LANDSBURG, WA US</td>\n",
       "      <td>47.376600</td>\n",
       "      <td>-121.961300</td>\n",
       "      <td>163.1</td>\n",
       "      <td>2016-12-31</td>\n",
       "      <td>NaN</td>\n",
       "      <td>NaN</td>\n",
       "      <td>NaN</td>\n",
       "      <td>NaN</td>\n",
       "      <td>0.00</td>\n",
       "      <td>T,,7,2400</td>\n",
       "      <td>NaN</td>\n",
       "      <td>NaN</td>\n",
       "      <td>NaN</td>\n",
       "      <td>NaN</td>\n",
       "    </tr>\n",
       "    <tr>\n",
       "      <th>23054</th>\n",
       "      <td>US1WAKG0042</td>\n",
       "      <td>NEWPORT HILLS 1.9 SSE, WA US</td>\n",
       "      <td>47.521080</td>\n",
       "      <td>-122.161270</td>\n",
       "      <td>104.2</td>\n",
       "      <td>2016-12-31</td>\n",
       "      <td>NaN</td>\n",
       "      <td>NaN</td>\n",
       "      <td>NaN</td>\n",
       "      <td>NaN</td>\n",
       "      <td>0.02</td>\n",
       "      <td>,,N</td>\n",
       "      <td>NaN</td>\n",
       "      <td>NaN</td>\n",
       "      <td>NaN</td>\n",
       "      <td>NaN</td>\n",
       "    </tr>\n",
       "    <tr>\n",
       "      <th>72596</th>\n",
       "      <td>US1WASN0027</td>\n",
       "      <td>EVERETT 2.4 NNW, WA US</td>\n",
       "      <td>47.996751</td>\n",
       "      <td>-122.209573</td>\n",
       "      <td>31.7</td>\n",
       "      <td>2016-12-31</td>\n",
       "      <td>NaN</td>\n",
       "      <td>NaN</td>\n",
       "      <td>NaN</td>\n",
       "      <td>NaN</td>\n",
       "      <td>0.01</td>\n",
       "      <td>,,N</td>\n",
       "      <td>NaN</td>\n",
       "      <td>NaN</td>\n",
       "      <td>NaN</td>\n",
       "      <td>NaN</td>\n",
       "    </tr>\n",
       "  </tbody>\n",
       "</table>\n",
       "<p>330209 rows × 16 columns</p>\n",
       "</div>"
      ],
      "text/plain": [
       "           STATION                             NAME   LATITUDE   LONGITUDE  \\\n",
       "0      USC00456295              PALMER 3 ESE, WA US  47.308890 -121.855560   \n",
       "3339   USC00459021                 WAUNA 3 W, WA US  47.372500 -122.702700   \n",
       "6994   USW00094248  RENTON MUNICIPAL AIRPORT, WA US  47.495130 -122.214420   \n",
       "2608   USW00094274    TACOMA NARROWS AIRPORT, WA US  47.267440 -122.576230   \n",
       "10579  USC00454169                      KENT, WA US  47.417350 -122.243300   \n",
       "...            ...                              ...        ...         ...   \n",
       "55222  US1WAKG0007         NORTH BEND 2.8 SE, WA US  47.468918 -121.744997   \n",
       "13222  US1WAKG0052           SEATTLE 5.6 SSW, WA US  47.543167 -122.381017   \n",
       "64165  USC00454486                 LANDSBURG, WA US  47.376600 -121.961300   \n",
       "23054  US1WAKG0042     NEWPORT HILLS 1.9 SSE, WA US  47.521080 -122.161270   \n",
       "72596  US1WASN0027           EVERETT 2.4 NNW, WA US  47.996751 -122.209573   \n",
       "\n",
       "       ELEVATION        DATE  DAPR DAPR_ATTRIBUTES  MDPR MDPR_ATTRIBUTES  \\\n",
       "0          268.8  2003-01-01   NaN             NaN   NaN             NaN   \n",
       "3339         5.2  2003-01-01   NaN             NaN   NaN             NaN   \n",
       "6994         5.5  2003-01-01   NaN             NaN   NaN             NaN   \n",
       "2608        88.4  2003-01-01   NaN             NaN   NaN             NaN   \n",
       "10579        8.8  2003-01-01   NaN             NaN   NaN             NaN   \n",
       "...          ...         ...   ...             ...   ...             ...   \n",
       "55222      157.6  2016-12-31   NaN             NaN   NaN             NaN   \n",
       "13222      113.1  2016-12-31   NaN             NaN   NaN             NaN   \n",
       "64165      163.1  2016-12-31   NaN             NaN   NaN             NaN   \n",
       "23054      104.2  2016-12-31   NaN             NaN   NaN             NaN   \n",
       "72596       31.7  2016-12-31   NaN             NaN   NaN             NaN   \n",
       "\n",
       "       PRCP PRCP_ATTRIBUTES  SNOW SNOW_ATTRIBUTES  SNWD SNWD_ATTRIBUTES  \n",
       "0      0.01        ,,0,0800   NaN             NaN   NaN             NaN  \n",
       "3339   0.07        ,,0,0800   NaN             NaN   NaN             NaN  \n",
       "6994   0.92             ,,W   NaN             NaN   NaN             NaN  \n",
       "2608   1.12             ,,W   NaN             NaN   NaN             NaN  \n",
       "10579  0.76        ,,0,1700   NaN             NaN   NaN             NaN  \n",
       "...     ...             ...   ...             ...   ...             ...  \n",
       "55222  0.00             ,,N   0.0             ,,N   NaN             NaN  \n",
       "13222  0.01             ,,N   NaN             NaN   NaN             NaN  \n",
       "64165  0.00       T,,7,2400   NaN             NaN   NaN             NaN  \n",
       "23054  0.02             ,,N   NaN             NaN   NaN             NaN  \n",
       "72596  0.01             ,,N   NaN             NaN   NaN             NaN  \n",
       "\n",
       "[330209 rows x 16 columns]"
      ]
     },
     "execution_count": 3,
     "metadata": {},
     "output_type": "execute_result"
    }
   ],
   "source": [
    "def unify_date_format(data, date_column='DATE'):\n",
    "    # 将'date'列转换为datetime格式，错误的日期格式会被设为NaT\n",
    "    data[date_column] = pd.to_datetime(data[date_column], errors='coerce')\n",
    "    # 将NaT（不是日期的值）删除或者替换\n",
    "    data = data.dropna(subset=[date_column])\n",
    "    # 按照日期列从远及近的顺序排列\n",
    "    data = data.sort_values(by=date_column)\n",
    "    # 再将'date'列转换为字符串，并指定格式为'YYYY-MM-DD'\n",
    "    data[date_column] = data[date_column].apply(lambda x: x.strftime('%Y-%m-%d'))\n",
    "    return data\n",
    "\n",
    "data = unify_date_format(data)\n",
    "data"
   ]
  },
  {
   "cell_type": "code",
   "execution_count": 4,
   "metadata": {},
   "outputs": [
    {
     "data": {
      "text/html": [
       "<div>\n",
       "<style scoped>\n",
       "    .dataframe tbody tr th:only-of-type {\n",
       "        vertical-align: middle;\n",
       "    }\n",
       "\n",
       "    .dataframe tbody tr th {\n",
       "        vertical-align: top;\n",
       "    }\n",
       "\n",
       "    .dataframe thead th {\n",
       "        text-align: right;\n",
       "    }\n",
       "</style>\n",
       "<table border=\"1\" class=\"dataframe\">\n",
       "  <thead>\n",
       "    <tr style=\"text-align: right;\">\n",
       "      <th></th>\n",
       "      <th>STATION</th>\n",
       "      <th>NAME</th>\n",
       "      <th>LATITUDE</th>\n",
       "      <th>LONGITUDE</th>\n",
       "      <th>ELEVATION</th>\n",
       "      <th>DATE</th>\n",
       "      <th>PRCP</th>\n",
       "      <th>PRCP_ATTRIBUTES</th>\n",
       "    </tr>\n",
       "  </thead>\n",
       "  <tbody>\n",
       "    <tr>\n",
       "      <th>0</th>\n",
       "      <td>USC00456295</td>\n",
       "      <td>PALMER 3 ESE, WA US</td>\n",
       "      <td>47.308890</td>\n",
       "      <td>-121.855560</td>\n",
       "      <td>268.8</td>\n",
       "      <td>2003-01-01</td>\n",
       "      <td>0.01</td>\n",
       "      <td>,,0,0800</td>\n",
       "    </tr>\n",
       "    <tr>\n",
       "      <th>3339</th>\n",
       "      <td>USC00459021</td>\n",
       "      <td>WAUNA 3 W, WA US</td>\n",
       "      <td>47.372500</td>\n",
       "      <td>-122.702700</td>\n",
       "      <td>5.2</td>\n",
       "      <td>2003-01-01</td>\n",
       "      <td>0.07</td>\n",
       "      <td>,,0,0800</td>\n",
       "    </tr>\n",
       "    <tr>\n",
       "      <th>6994</th>\n",
       "      <td>USW00094248</td>\n",
       "      <td>RENTON MUNICIPAL AIRPORT, WA US</td>\n",
       "      <td>47.495130</td>\n",
       "      <td>-122.214420</td>\n",
       "      <td>5.5</td>\n",
       "      <td>2003-01-01</td>\n",
       "      <td>0.92</td>\n",
       "      <td>,,W</td>\n",
       "    </tr>\n",
       "    <tr>\n",
       "      <th>2608</th>\n",
       "      <td>USW00094274</td>\n",
       "      <td>TACOMA NARROWS AIRPORT, WA US</td>\n",
       "      <td>47.267440</td>\n",
       "      <td>-122.576230</td>\n",
       "      <td>88.4</td>\n",
       "      <td>2003-01-01</td>\n",
       "      <td>1.12</td>\n",
       "      <td>,,W</td>\n",
       "    </tr>\n",
       "    <tr>\n",
       "      <th>10579</th>\n",
       "      <td>USC00454169</td>\n",
       "      <td>KENT, WA US</td>\n",
       "      <td>47.417350</td>\n",
       "      <td>-122.243300</td>\n",
       "      <td>8.8</td>\n",
       "      <td>2003-01-01</td>\n",
       "      <td>0.76</td>\n",
       "      <td>,,0,1700</td>\n",
       "    </tr>\n",
       "    <tr>\n",
       "      <th>...</th>\n",
       "      <td>...</td>\n",
       "      <td>...</td>\n",
       "      <td>...</td>\n",
       "      <td>...</td>\n",
       "      <td>...</td>\n",
       "      <td>...</td>\n",
       "      <td>...</td>\n",
       "      <td>...</td>\n",
       "    </tr>\n",
       "    <tr>\n",
       "      <th>55222</th>\n",
       "      <td>US1WAKG0007</td>\n",
       "      <td>NORTH BEND 2.8 SE, WA US</td>\n",
       "      <td>47.468918</td>\n",
       "      <td>-121.744997</td>\n",
       "      <td>157.6</td>\n",
       "      <td>2016-12-31</td>\n",
       "      <td>0.00</td>\n",
       "      <td>,,N</td>\n",
       "    </tr>\n",
       "    <tr>\n",
       "      <th>13222</th>\n",
       "      <td>US1WAKG0052</td>\n",
       "      <td>SEATTLE 5.6 SSW, WA US</td>\n",
       "      <td>47.543167</td>\n",
       "      <td>-122.381017</td>\n",
       "      <td>113.1</td>\n",
       "      <td>2016-12-31</td>\n",
       "      <td>0.01</td>\n",
       "      <td>,,N</td>\n",
       "    </tr>\n",
       "    <tr>\n",
       "      <th>64165</th>\n",
       "      <td>USC00454486</td>\n",
       "      <td>LANDSBURG, WA US</td>\n",
       "      <td>47.376600</td>\n",
       "      <td>-121.961300</td>\n",
       "      <td>163.1</td>\n",
       "      <td>2016-12-31</td>\n",
       "      <td>0.00</td>\n",
       "      <td>T,,7,2400</td>\n",
       "    </tr>\n",
       "    <tr>\n",
       "      <th>23054</th>\n",
       "      <td>US1WAKG0042</td>\n",
       "      <td>NEWPORT HILLS 1.9 SSE, WA US</td>\n",
       "      <td>47.521080</td>\n",
       "      <td>-122.161270</td>\n",
       "      <td>104.2</td>\n",
       "      <td>2016-12-31</td>\n",
       "      <td>0.02</td>\n",
       "      <td>,,N</td>\n",
       "    </tr>\n",
       "    <tr>\n",
       "      <th>72596</th>\n",
       "      <td>US1WASN0027</td>\n",
       "      <td>EVERETT 2.4 NNW, WA US</td>\n",
       "      <td>47.996751</td>\n",
       "      <td>-122.209573</td>\n",
       "      <td>31.7</td>\n",
       "      <td>2016-12-31</td>\n",
       "      <td>0.01</td>\n",
       "      <td>,,N</td>\n",
       "    </tr>\n",
       "  </tbody>\n",
       "</table>\n",
       "<p>330209 rows × 8 columns</p>\n",
       "</div>"
      ],
      "text/plain": [
       "           STATION                             NAME   LATITUDE   LONGITUDE  \\\n",
       "0      USC00456295              PALMER 3 ESE, WA US  47.308890 -121.855560   \n",
       "3339   USC00459021                 WAUNA 3 W, WA US  47.372500 -122.702700   \n",
       "6994   USW00094248  RENTON MUNICIPAL AIRPORT, WA US  47.495130 -122.214420   \n",
       "2608   USW00094274    TACOMA NARROWS AIRPORT, WA US  47.267440 -122.576230   \n",
       "10579  USC00454169                      KENT, WA US  47.417350 -122.243300   \n",
       "...            ...                              ...        ...         ...   \n",
       "55222  US1WAKG0007         NORTH BEND 2.8 SE, WA US  47.468918 -121.744997   \n",
       "13222  US1WAKG0052           SEATTLE 5.6 SSW, WA US  47.543167 -122.381017   \n",
       "64165  USC00454486                 LANDSBURG, WA US  47.376600 -121.961300   \n",
       "23054  US1WAKG0042     NEWPORT HILLS 1.9 SSE, WA US  47.521080 -122.161270   \n",
       "72596  US1WASN0027           EVERETT 2.4 NNW, WA US  47.996751 -122.209573   \n",
       "\n",
       "       ELEVATION        DATE  PRCP PRCP_ATTRIBUTES  \n",
       "0          268.8  2003-01-01  0.01        ,,0,0800  \n",
       "3339         5.2  2003-01-01  0.07        ,,0,0800  \n",
       "6994         5.5  2003-01-01  0.92             ,,W  \n",
       "2608        88.4  2003-01-01  1.12             ,,W  \n",
       "10579        8.8  2003-01-01  0.76        ,,0,1700  \n",
       "...          ...         ...   ...             ...  \n",
       "55222      157.6  2016-12-31  0.00             ,,N  \n",
       "13222      113.1  2016-12-31  0.01             ,,N  \n",
       "64165      163.1  2016-12-31  0.00       T,,7,2400  \n",
       "23054      104.2  2016-12-31  0.02             ,,N  \n",
       "72596       31.7  2016-12-31  0.01             ,,N  \n",
       "\n",
       "[330209 rows x 8 columns]"
      ]
     },
     "execution_count": 4,
     "metadata": {},
     "output_type": "execute_result"
    }
   ],
   "source": [
    "data.drop(['DAPR','DAPR_ATTRIBUTES','MDPR','MDPR_ATTRIBUTES','SNOW','SNOW_ATTRIBUTES','SNWD','SNWD_ATTRIBUTES'],axis=1,inplace=True)\n",
    "data"
   ]
  },
  {
   "cell_type": "code",
   "execution_count": 5,
   "metadata": {},
   "outputs": [
    {
     "name": "stdout",
     "output_type": "stream",
     "text": [
      "Total missing value: 7155\n",
      "Station: US1WAPR0014, Missing_value: 0\n",
      "Station: US1WAKP0013, Missing_value: 0\n"
     ]
    }
   ],
   "source": [
    "# save the data to csv file\n",
    "data.to_csv('seattle_PRCP.csv',index=False)\n",
    "\n",
    "import pandas as pd\n",
    "\n",
    "def find_min_missing_stations(filepath, column='PRCP', station_column='STATION'):\n",
    "    data = pd.read_csv(filepath)\n",
    "    stations = data[station_column].unique()\n",
    "\n",
    "    missing_values = {}\n",
    "    for station in stations:\n",
    "        station_data = data[data[station_column] == station]\n",
    "        missing_values[station] = station_data[column].isnull().sum()\n",
    "\n",
    "    print(f\"Total missing value: {sum(missing_values.values())}\")\n",
    "\n",
    "    # 排序并选取缺失值最小的两个站点\n",
    "    sorted_stations = sorted(missing_values.items(), key=lambda x: x[1])\n",
    "    for station, missing_value in sorted_stations[:2]:\n",
    "        print(f\"Station: {station}, Missing_value: {missing_value}\")\n",
    "\n",
    "    return [x[0] for x in sorted_stations[:2]]\n",
    "\n",
    "file_path = 'seattle_PRCP.csv'\n",
    "smallest_missing_stations = find_min_missing_stations(file_path)\n"
   ]
  },
  {
   "cell_type": "markdown",
   "metadata": {},
   "source": [
    "---"
   ]
  },
  {
   "cell_type": "markdown",
   "metadata": {},
   "source": [
    "# Portland OR"
   ]
  },
  {
   "cell_type": "code",
   "execution_count": 6,
   "metadata": {},
   "outputs": [
    {
     "name": "stdout",
     "output_type": "stream",
     "text": [
      "Total missing value: 3580\n",
      "Station: USW00024229, Missing_value: 0\n",
      "Station: US1ORCC0001, Missing_value: 0\n"
     ]
    }
   ],
   "source": [
    "filepaths = [\n",
    "    'portland OR0307.csv',\n",
    "    'portland OR0811.csv',\n",
    "    'portland OR1216.csv'\n",
    "]\n",
    "data = read_and_combine(*filepaths)\n",
    "data = unify_date_format(data)\n",
    "data.drop(['DAPR','DAPR_ATTRIBUTES','MDPR','MDPR_ATTRIBUTES','SNOW','SNOW_ATTRIBUTES','SNWD','SNWD_ATTRIBUTES'],axis=1,inplace=True)\n",
    "# save the data to csv file\n",
    "data.to_csv('portlandOR_PRCP.csv',index=False)\n",
    "\n",
    "file_path = 'portlandOR_PRCP.csv'\n",
    "smallest_missing_stations = find_min_missing_stations(file_path)"
   ]
  },
  {
   "cell_type": "markdown",
   "metadata": {},
   "source": [
    "---"
   ]
  },
  {
   "cell_type": "markdown",
   "metadata": {},
   "source": [
    "# Los Angeles, CA"
   ]
  },
  {
   "cell_type": "code",
   "execution_count": 7,
   "metadata": {},
   "outputs": [
    {
     "name": "stdout",
     "output_type": "stream",
     "text": [
      "Total missing value: 64052\n",
      "Station: USW00023152, Missing_value: 0\n",
      "Station: USC00049785, Missing_value: 0\n"
     ]
    }
   ],
   "source": [
    "filepaths = [\n",
    "    'losangeles0307.csv',\n",
    "    'losangeles0812.csv',\n",
    "    'losangeles1316.csv'\n",
    "]\n",
    "data = read_and_combine(*filepaths)\n",
    "data = unify_date_format(data)\n",
    "data.drop(['DAPR','DAPR_ATTRIBUTES','MDPR','MDPR_ATTRIBUTES','SNOW','SNOW_ATTRIBUTES','SNWD','SNWD_ATTRIBUTES'],axis=1,inplace=True)\n",
    "# save the data to csv file\n",
    "data.to_csv('losangeles_PRCP.csv',index=False)\n",
    "\n",
    "file_path = 'losangeles_PRCP.csv'\n",
    "smallest_missing_stations = find_min_missing_stations(file_path)"
   ]
  },
  {
   "cell_type": "markdown",
   "metadata": {},
   "source": [
    "---"
   ]
  },
  {
   "cell_type": "markdown",
   "metadata": {},
   "source": [
    "# Boise"
   ]
  },
  {
   "cell_type": "code",
   "execution_count": 8,
   "metadata": {},
   "outputs": [
    {
     "name": "stdout",
     "output_type": "stream",
     "text": [
      "Total missing value: 4966\n",
      "Station: USW00024131, Missing_value: 0\n",
      "Station: USS0016F02S, Missing_value: 0\n"
     ]
    }
   ],
   "source": [
    "filepaths = [\n",
    "    'Boise.csv',\n",
    "]\n",
    "data = read_and_combine(*filepaths)\n",
    "data = unify_date_format(data)\n",
    "data.drop(['DAPR','DAPR_ATTRIBUTES','MDPR','MDPR_ATTRIBUTES','SNOW','SNOW_ATTRIBUTES','SNWD','SNWD_ATTRIBUTES'],axis=1,inplace=True)\n",
    "# save the data to csv file\n",
    "data.to_csv('Boise_PRCP.csv',index=False)\n",
    "\n",
    "file_path = 'Boise_PRCP.csv'\n",
    "smallest_missing_stations = find_min_missing_stations(file_path)"
   ]
  },
  {
   "cell_type": "markdown",
   "metadata": {},
   "source": [
    "---"
   ]
  },
  {
   "cell_type": "markdown",
   "metadata": {},
   "source": [
    "# Las Vegas, NV"
   ]
  },
  {
   "cell_type": "code",
   "execution_count": 9,
   "metadata": {},
   "outputs": [
    {
     "name": "stderr",
     "output_type": "stream",
     "text": [
      "/var/folders/72/fkccsf2x2cbbvby3pxzcnrv00000gn/T/ipykernel_71969/3410117831.py:4: DtypeWarning: Columns (9,13) have mixed types. Specify dtype option on import or set low_memory=False.\n",
      "  data_frames = [pd.read_csv(filepath) for filepath in filepaths]\n"
     ]
    },
    {
     "name": "stdout",
     "output_type": "stream",
     "text": [
      "Total missing value: 21509\n",
      "Station: USC00264439, Missing_value: 0\n",
      "Station: USW00023169, Missing_value: 0\n"
     ]
    },
    {
     "name": "stderr",
     "output_type": "stream",
     "text": [
      "/var/folders/72/fkccsf2x2cbbvby3pxzcnrv00000gn/T/ipykernel_71969/1645341043.py:7: DtypeWarning: Columns (7,9) have mixed types. Specify dtype option on import or set low_memory=False.\n",
      "  data = pd.read_csv(filepath)\n"
     ]
    }
   ],
   "source": [
    "filepaths = [\n",
    "    'las vegas.csv',\n",
    "]\n",
    "data = read_and_combine(*filepaths)\n",
    "data = unify_date_format(data)\n",
    "data.drop(['DAPR','DAPR_ATTRIBUTES','MDPR','MDPR_ATTRIBUTES','SNOW','SNOW_ATTRIBUTES','SNWD','SNWD_ATTRIBUTES'],axis=1,inplace=True)\n",
    "# save the data to csv file\n",
    "data.to_csv('las vegas_PRCP.csv',index=False)\n",
    "\n",
    "file_path = 'las vegas_PRCP.csv'\n",
    "smallest_missing_stations = find_min_missing_stations(file_path)"
   ]
  },
  {
   "cell_type": "markdown",
   "metadata": {},
   "source": [
    "---"
   ]
  },
  {
   "cell_type": "markdown",
   "metadata": {},
   "source": [
    "# Billings"
   ]
  },
  {
   "cell_type": "code",
   "execution_count": 10,
   "metadata": {},
   "outputs": [
    {
     "name": "stderr",
     "output_type": "stream",
     "text": [
      "/var/folders/72/fkccsf2x2cbbvby3pxzcnrv00000gn/T/ipykernel_71969/3410117831.py:4: DtypeWarning: Columns (11) have mixed types. Specify dtype option on import or set low_memory=False.\n",
      "  data_frames = [pd.read_csv(filepath) for filepath in filepaths]\n"
     ]
    },
    {
     "name": "stdout",
     "output_type": "stream",
     "text": [
      "Total missing value: 4709\n",
      "Station: USW00024033, Missing_value: 0\n",
      "Station: USC00240801, Missing_value: 0\n"
     ]
    }
   ],
   "source": [
    "filepaths = [\n",
    "    'billings.csv',\n",
    "]\n",
    "data = read_and_combine(*filepaths)\n",
    "data = unify_date_format(data)\n",
    "data.drop(['DAPR','DAPR_ATTRIBUTES','MDPR','MDPR_ATTRIBUTES','SNOW','SNOW_ATTRIBUTES','SNWD','SNWD_ATTRIBUTES'],axis=1,inplace=True)\n",
    "# save the data to csv file\n",
    "data.to_csv('billings_PRCP.csv',index=False)\n",
    "\n",
    "file_path = 'billings_PRCP.csv'\n",
    "smallest_missing_stations = find_min_missing_stations(file_path)"
   ]
  },
  {
   "cell_type": "markdown",
   "metadata": {},
   "source": [
    "---"
   ]
  },
  {
   "cell_type": "markdown",
   "metadata": {},
   "source": [
    "# Cheyenne"
   ]
  },
  {
   "cell_type": "code",
   "execution_count": 11,
   "metadata": {},
   "outputs": [
    {
     "name": "stderr",
     "output_type": "stream",
     "text": [
      "/var/folders/72/fkccsf2x2cbbvby3pxzcnrv00000gn/T/ipykernel_71969/3410117831.py:4: DtypeWarning: Columns (9,13) have mixed types. Specify dtype option on import or set low_memory=False.\n",
      "  data_frames = [pd.read_csv(filepath) for filepath in filepaths]\n",
      "/var/folders/72/fkccsf2x2cbbvby3pxzcnrv00000gn/T/ipykernel_71969/1645341043.py:7: DtypeWarning: Columns (7,9) have mixed types. Specify dtype option on import or set low_memory=False.\n",
      "  data = pd.read_csv(filepath)\n"
     ]
    },
    {
     "name": "stdout",
     "output_type": "stream",
     "text": [
      "Total missing value: 1843\n",
      "Station: USW00024018, Missing_value: 0\n",
      "Station: USC00481676, Missing_value: 0\n"
     ]
    }
   ],
   "source": [
    "filepaths = [\n",
    "    'cheyenne0310.csv',\n",
    "    'cheyenne1116.csv'\n",
    "]\n",
    "data = read_and_combine(*filepaths)\n",
    "data = unify_date_format(data)\n",
    "data.drop(['DAPR','DAPR_ATTRIBUTES','MDPR','MDPR_ATTRIBUTES','SNOW','SNOW_ATTRIBUTES','SNWD','SNWD_ATTRIBUTES'],axis=1,inplace=True)\n",
    "# save the data to csv file\n",
    "data.to_csv('cheyenne_PRCP.csv',index=False)\n",
    "\n",
    "file_path = 'cheyenne_PRCP.csv'\n",
    "smallest_missing_stations = find_min_missing_stations(file_path)"
   ]
  },
  {
   "cell_type": "markdown",
   "metadata": {},
   "source": [
    "---"
   ]
  },
  {
   "cell_type": "markdown",
   "metadata": {},
   "source": [
    "# SaltLakeCity"
   ]
  },
  {
   "cell_type": "code",
   "execution_count": 12,
   "metadata": {},
   "outputs": [
    {
     "name": "stderr",
     "output_type": "stream",
     "text": [
      "/var/folders/72/fkccsf2x2cbbvby3pxzcnrv00000gn/T/ipykernel_71969/3410117831.py:4: DtypeWarning: Columns (9,13) have mixed types. Specify dtype option on import or set low_memory=False.\n",
      "  data_frames = [pd.read_csv(filepath) for filepath in filepaths]\n",
      "/var/folders/72/fkccsf2x2cbbvby3pxzcnrv00000gn/T/ipykernel_71969/1645341043.py:7: DtypeWarning: Columns (7,9) have mixed types. Specify dtype option on import or set low_memory=False.\n",
      "  data = pd.read_csv(filepath)\n"
     ]
    },
    {
     "name": "stdout",
     "output_type": "stream",
     "text": [
      "Total missing value: 1177\n",
      "Station: USW00024127, Missing_value: 0\n",
      "Station: USS0011J42S, Missing_value: 0\n"
     ]
    }
   ],
   "source": [
    "filepaths = [\n",
    "    'saltlakecity0310.csv',\n",
    "    'saltlakecity1116.csv',\n",
    "]\n",
    "data = read_and_combine(*filepaths)\n",
    "data = unify_date_format(data)\n",
    "data.drop(['DAPR','DAPR_ATTRIBUTES','MDPR','MDPR_ATTRIBUTES','SNOW','SNOW_ATTRIBUTES','SNWD','SNWD_ATTRIBUTES'],axis=1,inplace=True)\n",
    "# save the data to csv file\n",
    "data.to_csv('saltlakecity_PRCP.csv',index=False)\n",
    "\n",
    "file_path = 'saltlakecity_PRCP.csv'\n",
    "smallest_missing_stations = find_min_missing_stations(file_path)"
   ]
  },
  {
   "cell_type": "markdown",
   "metadata": {},
   "source": [
    "---"
   ]
  },
  {
   "cell_type": "markdown",
   "metadata": {},
   "source": [
    "# Phoenix"
   ]
  },
  {
   "cell_type": "code",
   "execution_count": 13,
   "metadata": {},
   "outputs": [
    {
     "name": "stdout",
     "output_type": "stream",
     "text": [
      "Total missing value: 1655\n",
      "Station: USC00028112, Missing_value: 0\n",
      "Station: USW00023183, Missing_value: 0\n"
     ]
    }
   ],
   "source": [
    "filepaths = [\n",
    "    'phoenix0304.csv',\n",
    "    'phoenix0506.csv',\n",
    "    'phoenix0708.csv',\n",
    "    'phoenix0910.csv',\n",
    "    'phoenix1112.csv',\n",
    "    'phoenix1314.csv',\n",
    "    'phoenix1516.csv'\n",
    "]\n",
    "data = read_and_combine(*filepaths)\n",
    "data = unify_date_format(data)\n",
    "data.drop(['DAPR','DAPR_ATTRIBUTES','MDPR','MDPR_ATTRIBUTES','SNOW','SNOW_ATTRIBUTES','SNWD','SNWD_ATTRIBUTES'],axis=1,inplace=True)\n",
    "# save the data to csv file\n",
    "data.to_csv('phoenix_PRCP.csv',index=False)\n",
    "\n",
    "file_path = 'phoenix_PRCP.csv'\n",
    "smallest_missing_stations = find_min_missing_stations(file_path)"
   ]
  },
  {
   "cell_type": "markdown",
   "metadata": {},
   "source": [
    "---"
   ]
  },
  {
   "cell_type": "markdown",
   "metadata": {},
   "source": [
    "# Denver"
   ]
  },
  {
   "cell_type": "code",
   "execution_count": 14,
   "metadata": {},
   "outputs": [
    {
     "name": "stderr",
     "output_type": "stream",
     "text": [
      "/var/folders/72/fkccsf2x2cbbvby3pxzcnrv00000gn/T/ipykernel_71969/3410117831.py:4: DtypeWarning: Columns (9,13) have mixed types. Specify dtype option on import or set low_memory=False.\n",
      "  data_frames = [pd.read_csv(filepath) for filepath in filepaths]\n",
      "/var/folders/72/fkccsf2x2cbbvby3pxzcnrv00000gn/T/ipykernel_71969/3410117831.py:4: DtypeWarning: Columns (13) have mixed types. Specify dtype option on import or set low_memory=False.\n",
      "  data_frames = [pd.read_csv(filepath) for filepath in filepaths]\n",
      "/var/folders/72/fkccsf2x2cbbvby3pxzcnrv00000gn/T/ipykernel_71969/3410117831.py:4: DtypeWarning: Columns (13) have mixed types. Specify dtype option on import or set low_memory=False.\n",
      "  data_frames = [pd.read_csv(filepath) for filepath in filepaths]\n",
      "/var/folders/72/fkccsf2x2cbbvby3pxzcnrv00000gn/T/ipykernel_71969/3410117831.py:4: DtypeWarning: Columns (13) have mixed types. Specify dtype option on import or set low_memory=False.\n",
      "  data_frames = [pd.read_csv(filepath) for filepath in filepaths]\n",
      "/var/folders/72/fkccsf2x2cbbvby3pxzcnrv00000gn/T/ipykernel_71969/3410117831.py:4: DtypeWarning: Columns (13) have mixed types. Specify dtype option on import or set low_memory=False.\n",
      "  data_frames = [pd.read_csv(filepath) for filepath in filepaths]\n",
      "/var/folders/72/fkccsf2x2cbbvby3pxzcnrv00000gn/T/ipykernel_71969/3410117831.py:4: DtypeWarning: Columns (13) have mixed types. Specify dtype option on import or set low_memory=False.\n",
      "  data_frames = [pd.read_csv(filepath) for filepath in filepaths]\n",
      "/var/folders/72/fkccsf2x2cbbvby3pxzcnrv00000gn/T/ipykernel_71969/3410117831.py:4: DtypeWarning: Columns (13) have mixed types. Specify dtype option on import or set low_memory=False.\n",
      "  data_frames = [pd.read_csv(filepath) for filepath in filepaths]\n",
      "/var/folders/72/fkccsf2x2cbbvby3pxzcnrv00000gn/T/ipykernel_71969/1645341043.py:7: DtypeWarning: Columns (9,10) have mixed types. Specify dtype option on import or set low_memory=False.\n",
      "  data = pd.read_csv(filepath)\n"
     ]
    },
    {
     "name": "stdout",
     "output_type": "stream",
     "text": [
      "Total missing value: 36802\n",
      "Station: US1COJF0092, Missing_value: 0\n",
      "Station: US1COAR0068, Missing_value: 0\n"
     ]
    }
   ],
   "source": [
    "filepaths = [\n",
    "    'denver2003.csv',\n",
    "    'denver2004.csv',\n",
    "    'denver2005.csv',\n",
    "    'denver2006.csv',\n",
    "    'denver2007.csv',\n",
    "    'denver2008.csv',\n",
    "    'denver2009.csv',\n",
    "    'denver2010.csv',\n",
    "    'denver2011.csv',\n",
    "    'denver2012.csv',\n",
    "    'denver2013.csv',\n",
    "    'denver2014.csv',\n",
    "    'denver2015.csv',\n",
    "    'denver2016.csv'\n",
    "]\n",
    "data = read_and_combine(*filepaths)\n",
    "data = unify_date_format(data)\n",
    "data.drop(['DAPR','DAPR_ATTRIBUTES','MDPR','MDPR_ATTRIBUTES','SNOW','SNOW_ATTRIBUTES','SNWD','SNWD_ATTRIBUTES'],axis=1,inplace=True)\n",
    "# save the data to csv file\n",
    "data.to_csv('denver_PRCP.csv',index=False)\n",
    "\n",
    "file_path = 'denver_PRCP.csv'\n",
    "smallest_missing_stations = find_min_missing_stations(file_path)"
   ]
  },
  {
   "cell_type": "markdown",
   "metadata": {},
   "source": [
    "---"
   ]
  },
  {
   "cell_type": "markdown",
   "metadata": {},
   "source": [
    "# Albuquerque, NM"
   ]
  },
  {
   "cell_type": "code",
   "execution_count": 15,
   "metadata": {},
   "outputs": [
    {
     "name": "stderr",
     "output_type": "stream",
     "text": [
      "/var/folders/72/fkccsf2x2cbbvby3pxzcnrv00000gn/T/ipykernel_71969/3410117831.py:4: DtypeWarning: Columns (11) have mixed types. Specify dtype option on import or set low_memory=False.\n",
      "  data_frames = [pd.read_csv(filepath) for filepath in filepaths]\n",
      "/var/folders/72/fkccsf2x2cbbvby3pxzcnrv00000gn/T/ipykernel_71969/3410117831.py:4: DtypeWarning: Columns (11) have mixed types. Specify dtype option on import or set low_memory=False.\n",
      "  data_frames = [pd.read_csv(filepath) for filepath in filepaths]\n",
      "/var/folders/72/fkccsf2x2cbbvby3pxzcnrv00000gn/T/ipykernel_71969/1645341043.py:7: DtypeWarning: Columns (7,9) have mixed types. Specify dtype option on import or set low_memory=False.\n",
      "  data = pd.read_csv(filepath)\n"
     ]
    },
    {
     "name": "stdout",
     "output_type": "stream",
     "text": [
      "Total missing value: 3696\n",
      "Station: USC00290231, Missing_value: 0\n",
      "Station: USC00292753, Missing_value: 0\n"
     ]
    }
   ],
   "source": [
    "filepaths = [\n",
    "    'albuquerque0304.csv',\n",
    "    'albuquerque0506.csv',\n",
    "    'albuquerque0708.csv',\n",
    "    'albuquerque0910.csv',\n",
    "    'albuquerque1112.csv',\n",
    "    'albuquerque1314.csv',\n",
    "    'albuquerque1516.csv'\n",
    "]\n",
    "data = read_and_combine(*filepaths)\n",
    "data = unify_date_format(data)\n",
    "data.drop(['DAPR','DAPR_ATTRIBUTES','MDPR','MDPR_ATTRIBUTES','SNOW','SNOW_ATTRIBUTES','SNWD','SNWD_ATTRIBUTES'],axis=1,inplace=True)\n",
    "# save the data to csv file\n",
    "data.to_csv('albuquerque_PRCP.csv',index=False)\n",
    "\n",
    "file_path = 'albuquerque_PRCP.csv'\n",
    "smallest_missing_stations = find_min_missing_stations(file_path)"
   ]
  },
  {
   "cell_type": "markdown",
   "metadata": {},
   "source": [
    "---"
   ]
  },
  {
   "cell_type": "markdown",
   "metadata": {},
   "source": [
    "# Fargo"
   ]
  },
  {
   "cell_type": "code",
   "execution_count": 16,
   "metadata": {},
   "outputs": [
    {
     "name": "stderr",
     "output_type": "stream",
     "text": [
      "/var/folders/72/fkccsf2x2cbbvby3pxzcnrv00000gn/T/ipykernel_71969/3410117831.py:4: DtypeWarning: Columns (7,9,15) have mixed types. Specify dtype option on import or set low_memory=False.\n",
      "  data_frames = [pd.read_csv(filepath) for filepath in filepaths]\n"
     ]
    },
    {
     "name": "stdout",
     "output_type": "stream",
     "text": [
      "Total missing value: 298\n",
      "Station: USW00014914, Missing_value: 0\n",
      "Station: USC00215586, Missing_value: 0\n"
     ]
    }
   ],
   "source": [
    "filepaths = [\n",
    "    'fargo.csv',\n",
    "]\n",
    "data = read_and_combine(*filepaths)\n",
    "data = unify_date_format(data)\n",
    "data.drop(['DAPR','DAPR_ATTRIBUTES','MDPR','MDPR_ATTRIBUTES','SNOW','SNOW_ATTRIBUTES','SNWD','SNWD_ATTRIBUTES'],axis=1,inplace=True)\n",
    "# save the data to csv file\n",
    "data.to_csv('fargo_PRCP.csv',index=False)\n",
    "\n",
    "file_path = 'fargo_PRCP.csv'\n",
    "smallest_missing_stations = find_min_missing_stations(file_path)"
   ]
  },
  {
   "cell_type": "markdown",
   "metadata": {},
   "source": [
    "---"
   ]
  },
  {
   "cell_type": "markdown",
   "metadata": {},
   "source": [
    "# Sioux Falls"
   ]
  },
  {
   "cell_type": "code",
   "execution_count": 17,
   "metadata": {},
   "outputs": [
    {
     "name": "stdout",
     "output_type": "stream",
     "text": [
      "Total missing value: 560\n",
      "Station: USW00014944, Missing_value: 0\n",
      "Station: US1SDMH0020, Missing_value: 0\n"
     ]
    }
   ],
   "source": [
    "filepaths = [\n",
    "    'sioux falls.csv',\n",
    "]\n",
    "data = read_and_combine(*filepaths)\n",
    "data = unify_date_format(data)\n",
    "data.drop(['DAPR','DAPR_ATTRIBUTES','MDPR','MDPR_ATTRIBUTES','SNOW','SNOW_ATTRIBUTES','SNWD','SNWD_ATTRIBUTES'],axis=1,inplace=True)\n",
    "# save the data to csv file\n",
    "data.to_csv('sioux falls_PRCP.csv',index=False)\n",
    "\n",
    "file_path = 'sioux falls_PRCP.csv'\n",
    "smallest_missing_stations = find_min_missing_stations(file_path)"
   ]
  },
  {
   "cell_type": "markdown",
   "metadata": {},
   "source": [
    "---"
   ]
  },
  {
   "cell_type": "markdown",
   "metadata": {},
   "source": [
    "# Omaha"
   ]
  },
  {
   "cell_type": "code",
   "execution_count": 18,
   "metadata": {},
   "outputs": [
    {
     "name": "stderr",
     "output_type": "stream",
     "text": [
      "/var/folders/72/fkccsf2x2cbbvby3pxzcnrv00000gn/T/ipykernel_71969/3410117831.py:4: DtypeWarning: Columns (11) have mixed types. Specify dtype option on import or set low_memory=False.\n",
      "  data_frames = [pd.read_csv(filepath) for filepath in filepaths]\n",
      "/var/folders/72/fkccsf2x2cbbvby3pxzcnrv00000gn/T/ipykernel_71969/1645341043.py:7: DtypeWarning: Columns (7,9) have mixed types. Specify dtype option on import or set low_memory=False.\n",
      "  data = pd.read_csv(filepath)\n"
     ]
    },
    {
     "name": "stdout",
     "output_type": "stream",
     "text": [
      "Total missing value: 715\n",
      "Station: USW00014942, Missing_value: 0\n",
      "Station: USC00253467, Missing_value: 0\n"
     ]
    }
   ],
   "source": [
    "filepaths = [\n",
    "    'omaha0309.csv',\n",
    "    'omaha1016.csv',\n",
    "]\n",
    "data = read_and_combine(*filepaths)\n",
    "data = unify_date_format(data)\n",
    "data.drop(['DAPR','DAPR_ATTRIBUTES','MDPR','MDPR_ATTRIBUTES','SNOW','SNOW_ATTRIBUTES','SNWD','SNWD_ATTRIBUTES'],axis=1,inplace=True)\n",
    "# save the data to csv file\n",
    "data.to_csv('omaha_PRCP.csv',index=False)\n",
    "\n",
    "file_path = 'omaha_PRCP.csv'\n",
    "smallest_missing_stations = find_min_missing_stations(file_path)"
   ]
  },
  {
   "cell_type": "markdown",
   "metadata": {},
   "source": [
    "---"
   ]
  },
  {
   "cell_type": "markdown",
   "metadata": {},
   "source": [
    "# Wichita"
   ]
  },
  {
   "cell_type": "code",
   "execution_count": 19,
   "metadata": {},
   "outputs": [
    {
     "name": "stdout",
     "output_type": "stream",
     "text": [
      "Total missing value: 696\n",
      "Station: USW00003928, Missing_value: 0\n",
      "Station: US1KSSG0002, Missing_value: 0\n"
     ]
    },
    {
     "name": "stderr",
     "output_type": "stream",
     "text": [
      "/var/folders/72/fkccsf2x2cbbvby3pxzcnrv00000gn/T/ipykernel_71969/1645341043.py:7: DtypeWarning: Columns (7,9) have mixed types. Specify dtype option on import or set low_memory=False.\n",
      "  data = pd.read_csv(filepath)\n"
     ]
    }
   ],
   "source": [
    "filepaths = [\n",
    "    'wichita0310.csv',\n",
    "    'wichita1116.csv',\n",
    "]\n",
    "data = read_and_combine(*filepaths)\n",
    "data = unify_date_format(data)\n",
    "data.drop(['DAPR','DAPR_ATTRIBUTES','MDPR','MDPR_ATTRIBUTES','SNOW','SNOW_ATTRIBUTES','SNWD','SNWD_ATTRIBUTES'],axis=1,inplace=True)\n",
    "# save the data to csv file\n",
    "data.to_csv('wichita_PRCP.csv',index=False)\n",
    "\n",
    "file_path = 'wichita_PRCP.csv'\n",
    "smallest_missing_stations = find_min_missing_stations(file_path)"
   ]
  },
  {
   "cell_type": "markdown",
   "metadata": {},
   "source": [
    "---"
   ]
  },
  {
   "cell_type": "markdown",
   "metadata": {},
   "source": [
    "# Oklahoma City"
   ]
  },
  {
   "cell_type": "code",
   "execution_count": 20,
   "metadata": {},
   "outputs": [
    {
     "name": "stdout",
     "output_type": "stream",
     "text": [
      "Total missing value: 3070\n",
      "Station: USW00013967, Missing_value: 0\n",
      "Station: USC00347068, Missing_value: 0\n"
     ]
    }
   ],
   "source": [
    "filepaths = [\n",
    "    'oklahoma city0306.csv',\n",
    "    'oklahoma city0710.csv',\n",
    "    'oklahoma city1114.csv',\n",
    "    'oklahoma city1516.csv',\n",
    "]\n",
    "data = read_and_combine(*filepaths)\n",
    "data = unify_date_format(data)\n",
    "data.drop(['DAPR','DAPR_ATTRIBUTES','MDPR','MDPR_ATTRIBUTES','SNOW','SNOW_ATTRIBUTES','SNWD','SNWD_ATTRIBUTES'],axis=1,inplace=True)\n",
    "# save the data to csv file\n",
    "data.to_csv('oklahoma city_PRCP.csv',index=False)\n",
    "\n",
    "file_path = 'oklahoma city_PRCP.csv'\n",
    "smallest_missing_stations = find_min_missing_stations(file_path)"
   ]
  },
  {
   "cell_type": "markdown",
   "metadata": {},
   "source": [
    "---"
   ]
  },
  {
   "cell_type": "markdown",
   "metadata": {},
   "source": [
    "# Dallas"
   ]
  },
  {
   "cell_type": "code",
   "execution_count": 21,
   "metadata": {},
   "outputs": [
    {
     "name": "stdout",
     "output_type": "stream",
     "text": [
      "Total missing value: 182\n",
      "Station: USW00013960, Missing_value: 0\n",
      "Station: USC00417588, Missing_value: 0\n"
     ]
    }
   ],
   "source": [
    "filepaths = [\n",
    "    'dallas.csv',\n",
    "]\n",
    "data = read_and_combine(*filepaths)\n",
    "data = unify_date_format(data)\n",
    "data.drop(['DAPR','DAPR_ATTRIBUTES','MDPR','MDPR_ATTRIBUTES','SNOW','SNOW_ATTRIBUTES','SNWD','SNWD_ATTRIBUTES'],axis=1,inplace=True)\n",
    "# save the data to csv file\n",
    "data.to_csv('dallas_PRCP.csv',index=False)\n",
    "\n",
    "file_path = 'dallas_PRCP.csv'\n",
    "smallest_missing_stations = find_min_missing_stations(file_path)"
   ]
  },
  {
   "cell_type": "markdown",
   "metadata": {},
   "source": [
    "---"
   ]
  },
  {
   "cell_type": "markdown",
   "metadata": {},
   "source": [
    "# Minneapolis, MN, USA"
   ]
  },
  {
   "cell_type": "code",
   "execution_count": 22,
   "metadata": {},
   "outputs": [
    {
     "name": "stderr",
     "output_type": "stream",
     "text": [
      "/var/folders/72/fkccsf2x2cbbvby3pxzcnrv00000gn/T/ipykernel_71969/1645341043.py:7: DtypeWarning: Columns (7,9) have mixed types. Specify dtype option on import or set low_memory=False.\n",
      "  data = pd.read_csv(filepath)\n"
     ]
    },
    {
     "name": "stdout",
     "output_type": "stream",
     "text": [
      "Total missing value: 3562\n",
      "Station: USC00218450, Missing_value: 0\n",
      "Station: USC00211448, Missing_value: 0\n"
     ]
    }
   ],
   "source": [
    "filepaths = [\n",
    "    'minneapolis0305.csv',\n",
    "    'minneapolis1214.csv',\n",
    "    'minneapolis1516.csv'\n",
    "]\n",
    "data = read_and_combine(*filepaths)\n",
    "data = unify_date_format(data)\n",
    "data.drop(['DAPR','DAPR_ATTRIBUTES','MDPR','MDPR_ATTRIBUTES','SNOW','SNOW_ATTRIBUTES','SNWD','SNWD_ATTRIBUTES'],axis=1,inplace=True)\n",
    "# save the data to csv file\n",
    "data.to_csv('minneapolis_PRCP.csv',index=False)\n",
    "\n",
    "file_path = 'minneapolis_PRCP.csv'\n",
    "smallest_missing_stations = find_min_missing_stations(file_path)"
   ]
  },
  {
   "cell_type": "markdown",
   "metadata": {},
   "source": [
    "---"
   ]
  },
  {
   "cell_type": "markdown",
   "metadata": {},
   "source": [
    "# Des moines"
   ]
  },
  {
   "cell_type": "code",
   "execution_count": 23,
   "metadata": {},
   "outputs": [
    {
     "name": "stdout",
     "output_type": "stream",
     "text": [
      "Total missing value: 679\n",
      "Station: US1IAPK0001, Missing_value: 0\n",
      "Station: US1IAPK0042, Missing_value: 0\n"
     ]
    }
   ],
   "source": [
    "filepaths = [\n",
    "    'des moines0310.csv',\n",
    "    'des moines1116.csv'\n",
    "]\n",
    "data = read_and_combine(*filepaths)\n",
    "data = unify_date_format(data)\n",
    "data.drop(['DAPR','DAPR_ATTRIBUTES','MDPR','MDPR_ATTRIBUTES','SNOW','SNOW_ATTRIBUTES','SNWD','SNWD_ATTRIBUTES'],axis=1,inplace=True)\n",
    "# save the data to csv file\n",
    "data.to_csv('des moines_PRCP.csv',index=False)\n",
    "\n",
    "file_path = 'des moines_PRCP.csv'\n",
    "smallest_missing_stations = find_min_missing_stations(file_path)"
   ]
  },
  {
   "cell_type": "markdown",
   "metadata": {},
   "source": [
    "---"
   ]
  },
  {
   "cell_type": "markdown",
   "metadata": {},
   "source": [
    "# St.Louis"
   ]
  },
  {
   "cell_type": "code",
   "execution_count": 24,
   "metadata": {},
   "outputs": [
    {
     "name": "stdout",
     "output_type": "stream",
     "text": [
      "Total missing value: 1345\n",
      "Station: USW00013994, Missing_value: 0\n",
      "Station: US1ILSC0009, Missing_value: 0\n"
     ]
    }
   ],
   "source": [
    "filepaths = [\n",
    "    'st.louis0310.csv',\n",
    "    'st.louis1116.csv',\n",
    "]\n",
    "data = read_and_combine(*filepaths)\n",
    "data = unify_date_format(data)\n",
    "data.drop(['DAPR','DAPR_ATTRIBUTES','MDPR','MDPR_ATTRIBUTES','SNOW','SNOW_ATTRIBUTES','SNWD','SNWD_ATTRIBUTES'],axis=1,inplace=True)\n",
    "# save the data to csv file\n",
    "data.to_csv('st.louis_PRCP.csv',index=False)\n",
    "\n",
    "file_path = 'st.louis_PRCP.csv'\n",
    "smallest_missing_stations = find_min_missing_stations(file_path)"
   ]
  },
  {
   "cell_type": "markdown",
   "metadata": {},
   "source": [
    "---"
   ]
  },
  {
   "cell_type": "markdown",
   "metadata": {},
   "source": [
    "# Little Rock, AR, USA"
   ]
  },
  {
   "cell_type": "code",
   "execution_count": 25,
   "metadata": {},
   "outputs": [
    {
     "name": "stdout",
     "output_type": "stream",
     "text": [
      "Total missing value: 576\n",
      "Station: USW00003952, Missing_value: 0\n",
      "Station: USC00034010, Missing_value: 0\n"
     ]
    }
   ],
   "source": [
    "filepaths = [\n",
    "    'littlerock.csv',\n",
    "]\n",
    "data = read_and_combine(*filepaths)\n",
    "data = unify_date_format(data)\n",
    "data.drop(['DAPR','DAPR_ATTRIBUTES','MDPR','MDPR_ATTRIBUTES','SNOW','SNOW_ATTRIBUTES','SNWD','SNWD_ATTRIBUTES'],axis=1,inplace=True)\n",
    "# save the data to csv file\n",
    "data.to_csv('littlerock_PRCP.csv',index=False)\n",
    "\n",
    "file_path = 'littlerock_PRCP.csv'\n",
    "smallest_missing_stations = find_min_missing_stations(file_path)"
   ]
  },
  {
   "cell_type": "markdown",
   "metadata": {},
   "source": [
    "---"
   ]
  },
  {
   "cell_type": "markdown",
   "metadata": {},
   "source": [
    "# New Orleans, LA, USA"
   ]
  },
  {
   "cell_type": "code",
   "execution_count": 26,
   "metadata": {},
   "outputs": [
    {
     "name": "stdout",
     "output_type": "stream",
     "text": [
      "Total missing value: 1178\n",
      "Station: USW00012916, Missing_value: 0\n",
      "Station: US1LAJF0001, Missing_value: 0\n"
     ]
    }
   ],
   "source": [
    "filepaths = [\n",
    "    'neworleans.csv',\n",
    "]\n",
    "data = read_and_combine(*filepaths)\n",
    "data = unify_date_format(data)\n",
    "data.drop(['DAPR','DAPR_ATTRIBUTES','MDPR','MDPR_ATTRIBUTES','SNOW','SNOW_ATTRIBUTES','SNWD','SNWD_ATTRIBUTES'],axis=1,inplace=True)\n",
    "# save the data to csv file\n",
    "data.to_csv('neworleans_PRCP.csv',index=False)\n",
    "\n",
    "file_path = 'neworleans_PRCP.csv'\n",
    "smallest_missing_stations = find_min_missing_stations(file_path)"
   ]
  },
  {
   "cell_type": "markdown",
   "metadata": {},
   "source": [
    "---\n"
   ]
  },
  {
   "cell_type": "markdown",
   "metadata": {},
   "source": [
    "# Milwaukee"
   ]
  },
  {
   "cell_type": "code",
   "execution_count": 28,
   "metadata": {},
   "outputs": [
    {
     "name": "stderr",
     "output_type": "stream",
     "text": [
      "/var/folders/72/fkccsf2x2cbbvby3pxzcnrv00000gn/T/ipykernel_71969/1645341043.py:7: DtypeWarning: Columns (7) have mixed types. Specify dtype option on import or set low_memory=False.\n",
      "  data = pd.read_csv(filepath)\n"
     ]
    },
    {
     "name": "stdout",
     "output_type": "stream",
     "text": [
      "Total missing value: 1233\n",
      "Station: USC00479050, Missing_value: 0\n",
      "Station: USW00014839, Missing_value: 0\n"
     ]
    }
   ],
   "source": [
    "filepaths = [\n",
    "    'milwaukee0306.csv',\n",
    "    'milwaukee0710.csv',\n",
    "    'milwaukee1113.csv',\n",
    "    'milwaukee1416.csv',\n",
    "]\n",
    "data = read_and_combine(*filepaths)\n",
    "data = unify_date_format(data)\n",
    "data.drop(['DAPR','DAPR_ATTRIBUTES','MDPR','MDPR_ATTRIBUTES','SNOW','SNOW_ATTRIBUTES','SNWD','SNWD_ATTRIBUTES'],axis=1,inplace=True)\n",
    "# save the data to csv file\n",
    "data.to_csv('milwaukee_PRCP.csv',index=False)\n",
    "\n",
    "file_path = 'milwaukee_PRCP.csv'\n",
    "smallest_missing_stations = find_min_missing_stations(file_path)"
   ]
  },
  {
   "cell_type": "markdown",
   "metadata": {},
   "source": [
    "---"
   ]
  },
  {
   "cell_type": "markdown",
   "metadata": {},
   "source": [
    "# Chicago"
   ]
  },
  {
   "cell_type": "code",
   "execution_count": 29,
   "metadata": {},
   "outputs": [
    {
     "name": "stderr",
     "output_type": "stream",
     "text": [
      "/var/folders/72/fkccsf2x2cbbvby3pxzcnrv00000gn/T/ipykernel_71969/3410117831.py:4: DtypeWarning: Columns (13) have mixed types. Specify dtype option on import or set low_memory=False.\n",
      "  data_frames = [pd.read_csv(filepath) for filepath in filepaths]\n",
      "/var/folders/72/fkccsf2x2cbbvby3pxzcnrv00000gn/T/ipykernel_71969/3410117831.py:4: DtypeWarning: Columns (9,13) have mixed types. Specify dtype option on import or set low_memory=False.\n",
      "  data_frames = [pd.read_csv(filepath) for filepath in filepaths]\n",
      "/var/folders/72/fkccsf2x2cbbvby3pxzcnrv00000gn/T/ipykernel_71969/1645341043.py:7: DtypeWarning: Columns (7,9) have mixed types. Specify dtype option on import or set low_memory=False.\n",
      "  data = pd.read_csv(filepath)\n"
     ]
    },
    {
     "name": "stdout",
     "output_type": "stream",
     "text": [
      "Total missing value: 11703\n",
      "Station: USC00111577, Missing_value: 0\n",
      "Station: USW00094846, Missing_value: 0\n"
     ]
    }
   ],
   "source": [
    "filepaths = [\n",
    "    'chicago0304.csv',\n",
    "    'chicago0506.csv',\n",
    "    'chicago0708.csv',\n",
    "    'chicago0910.csv',\n",
    "    'chicago1112.csv',\n",
    "    'chicago1314.csv',\n",
    "    'chicago1516.csv'\n",
    "]\n",
    "data = read_and_combine(*filepaths)\n",
    "data = unify_date_format(data)\n",
    "data.drop(['DAPR','DAPR_ATTRIBUTES','MDPR','MDPR_ATTRIBUTES','SNOW','SNOW_ATTRIBUTES','SNWD','SNWD_ATTRIBUTES'],axis=1,inplace=True)\n",
    "# save the data to csv file\n",
    "data.to_csv('chicago_PRCP.csv',index=False)\n",
    "\n",
    "file_path = 'chicago_PRCP.csv'\n",
    "smallest_missing_stations = find_min_missing_stations(file_path)"
   ]
  },
  {
   "cell_type": "markdown",
   "metadata": {},
   "source": [
    "---"
   ]
  },
  {
   "cell_type": "markdown",
   "metadata": {},
   "source": [
    "# Jackson"
   ]
  },
  {
   "cell_type": "code",
   "execution_count": 30,
   "metadata": {},
   "outputs": [
    {
     "name": "stdout",
     "output_type": "stream",
     "text": [
      "Total missing value: 675\n",
      "Station: USW00003940, Missing_value: 0\n",
      "Station: US1MSRN0013, Missing_value: 0\n"
     ]
    }
   ],
   "source": [
    "filepaths = [\n",
    "    'jackson.csv',\n",
    "]\n",
    "data = read_and_combine(*filepaths)\n",
    "data = unify_date_format(data)\n",
    "data.drop(['DAPR','DAPR_ATTRIBUTES','MDPR','MDPR_ATTRIBUTES','SNOW','SNOW_ATTRIBUTES','SNWD','SNWD_ATTRIBUTES'],axis=1,inplace=True)\n",
    "# save the data to csv file\n",
    "data.to_csv('jackson_PRCP.csv',index=False)\n",
    "\n",
    "file_path = 'jackson_PRCP.csv'\n",
    "smallest_missing_stations = find_min_missing_stations(file_path)"
   ]
  },
  {
   "cell_type": "markdown",
   "metadata": {},
   "source": [
    "---"
   ]
  },
  {
   "cell_type": "markdown",
   "metadata": {},
   "source": [
    "# Detroit"
   ]
  },
  {
   "cell_type": "code",
   "execution_count": 31,
   "metadata": {},
   "outputs": [
    {
     "name": "stderr",
     "output_type": "stream",
     "text": [
      "/var/folders/72/fkccsf2x2cbbvby3pxzcnrv00000gn/T/ipykernel_71969/3410117831.py:4: DtypeWarning: Columns (9) have mixed types. Specify dtype option on import or set low_memory=False.\n",
      "  data_frames = [pd.read_csv(filepath) for filepath in filepaths]\n",
      "/var/folders/72/fkccsf2x2cbbvby3pxzcnrv00000gn/T/ipykernel_71969/3410117831.py:4: DtypeWarning: Columns (9,13) have mixed types. Specify dtype option on import or set low_memory=False.\n",
      "  data_frames = [pd.read_csv(filepath) for filepath in filepaths]\n",
      "/var/folders/72/fkccsf2x2cbbvby3pxzcnrv00000gn/T/ipykernel_71969/1645341043.py:7: DtypeWarning: Columns (7,9) have mixed types. Specify dtype option on import or set low_memory=False.\n",
      "  data = pd.read_csv(filepath)\n"
     ]
    },
    {
     "name": "stdout",
     "output_type": "stream",
     "text": [
      "Total missing value: 7679\n",
      "Station: CA006139525, Missing_value: 0\n",
      "Station: USW00094847, Missing_value: 0\n"
     ]
    }
   ],
   "source": [
    "filepaths = [\n",
    "    'detroit0306.csv',\n",
    "    'detroit0710.csv',\n",
    "    'detroit1113.csv',\n",
    "    'detroit1416.csv',\n",
    "]\n",
    "data = read_and_combine(*filepaths)\n",
    "data = unify_date_format(data)\n",
    "data.drop(['DAPR','DAPR_ATTRIBUTES','MDPR','MDPR_ATTRIBUTES','SNOW','SNOW_ATTRIBUTES','SNWD','SNWD_ATTRIBUTES'],axis=1,inplace=True)\n",
    "# save the data to csv file\n",
    "data.to_csv('detroit_PRCP.csv',index=False)\n",
    "\n",
    "file_path = 'detroit_PRCP.csv'\n",
    "smallest_missing_stations = find_min_missing_stations(file_path)"
   ]
  },
  {
   "cell_type": "markdown",
   "metadata": {},
   "source": [
    "---"
   ]
  },
  {
   "cell_type": "markdown",
   "metadata": {},
   "source": [
    "# Indianapolis, IN, USA"
   ]
  },
  {
   "cell_type": "code",
   "execution_count": 32,
   "metadata": {},
   "outputs": [
    {
     "name": "stderr",
     "output_type": "stream",
     "text": [
      "/var/folders/72/fkccsf2x2cbbvby3pxzcnrv00000gn/T/ipykernel_71969/3410117831.py:4: DtypeWarning: Columns (13) have mixed types. Specify dtype option on import or set low_memory=False.\n",
      "  data_frames = [pd.read_csv(filepath) for filepath in filepaths]\n",
      "/var/folders/72/fkccsf2x2cbbvby3pxzcnrv00000gn/T/ipykernel_71969/3410117831.py:4: DtypeWarning: Columns (13) have mixed types. Specify dtype option on import or set low_memory=False.\n",
      "  data_frames = [pd.read_csv(filepath) for filepath in filepaths]\n",
      "/var/folders/72/fkccsf2x2cbbvby3pxzcnrv00000gn/T/ipykernel_71969/3410117831.py:4: DtypeWarning: Columns (9,13) have mixed types. Specify dtype option on import or set low_memory=False.\n",
      "  data_frames = [pd.read_csv(filepath) for filepath in filepaths]\n",
      "/var/folders/72/fkccsf2x2cbbvby3pxzcnrv00000gn/T/ipykernel_71969/1645341043.py:7: DtypeWarning: Columns (7,9) have mixed types. Specify dtype option on import or set low_memory=False.\n",
      "  data = pd.read_csv(filepath)\n"
     ]
    },
    {
     "name": "stdout",
     "output_type": "stream",
     "text": [
      "Total missing value: 4347\n",
      "Station: USW00053866, Missing_value: 0\n",
      "Station: USW00093819, Missing_value: 0\n"
     ]
    }
   ],
   "source": [
    "filepaths = [\n",
    "    'indianapolis0305.csv',\n",
    "    'indianapolis0608.csv',\n",
    "    'indianapolis0911.csv',\n",
    "    'indianapolis1214.csv',\n",
    "    'indianapolis1516.csv',\n",
    "]\n",
    "data = read_and_combine(*filepaths)\n",
    "data = unify_date_format(data)\n",
    "data.drop(['DAPR','DAPR_ATTRIBUTES','MDPR','MDPR_ATTRIBUTES','SNOW','SNOW_ATTRIBUTES','SNWD','SNWD_ATTRIBUTES'],axis=1,inplace=True)\n",
    "# save the data to csv file\n",
    "data.to_csv('indianapolis_PRCP.csv',index=False)\n",
    "\n",
    "file_path = 'indianapolis_PRCP.csv'\n",
    "smallest_missing_stations = find_min_missing_stations(file_path)"
   ]
  },
  {
   "cell_type": "markdown",
   "metadata": {},
   "source": [
    "---"
   ]
  },
  {
   "cell_type": "markdown",
   "metadata": {},
   "source": [
    "# Louisville"
   ]
  },
  {
   "cell_type": "code",
   "execution_count": 33,
   "metadata": {},
   "outputs": [
    {
     "name": "stdout",
     "output_type": "stream",
     "text": [
      "Total missing value: 760\n",
      "Station: USW00093821, Missing_value: 0\n",
      "Station: US1INCK0014, Missing_value: 0\n"
     ]
    }
   ],
   "source": [
    "filepaths = [\n",
    "    'louisville0310.csv',\n",
    "    'louisville1116.csv'\n",
    "]\n",
    "data = read_and_combine(*filepaths)\n",
    "data = unify_date_format(data)\n",
    "data.drop(['DAPR','DAPR_ATTRIBUTES','MDPR','MDPR_ATTRIBUTES','SNOW','SNOW_ATTRIBUTES','SNWD','SNWD_ATTRIBUTES'],axis=1,inplace=True)\n",
    "# save the data to csv file\n",
    "data.to_csv('louisville_PRCP.csv',index=False)\n",
    "\n",
    "file_path = 'louisville_PRCP.csv'\n",
    "smallest_missing_stations = find_min_missing_stations(file_path)"
   ]
  },
  {
   "cell_type": "markdown",
   "metadata": {},
   "source": [
    "---"
   ]
  },
  {
   "cell_type": "markdown",
   "metadata": {},
   "source": [
    "# Nashville"
   ]
  },
  {
   "cell_type": "code",
   "execution_count": 34,
   "metadata": {},
   "outputs": [
    {
     "name": "stderr",
     "output_type": "stream",
     "text": [
      "/var/folders/72/fkccsf2x2cbbvby3pxzcnrv00000gn/T/ipykernel_71969/3410117831.py:4: DtypeWarning: Columns (11) have mixed types. Specify dtype option on import or set low_memory=False.\n",
      "  data_frames = [pd.read_csv(filepath) for filepath in filepaths]\n",
      "/var/folders/72/fkccsf2x2cbbvby3pxzcnrv00000gn/T/ipykernel_71969/3410117831.py:4: DtypeWarning: Columns (11) have mixed types. Specify dtype option on import or set low_memory=False.\n",
      "  data_frames = [pd.read_csv(filepath) for filepath in filepaths]\n",
      "/var/folders/72/fkccsf2x2cbbvby3pxzcnrv00000gn/T/ipykernel_71969/1645341043.py:7: DtypeWarning: Columns (7,9) have mixed types. Specify dtype option on import or set low_memory=False.\n",
      "  data = pd.read_csv(filepath)\n"
     ]
    },
    {
     "name": "stdout",
     "output_type": "stream",
     "text": [
      "Total missing value: 12055\n",
      "Station: USW00013897, Missing_value: 0\n",
      "Station: US1TNWL0002, Missing_value: 0\n"
     ]
    }
   ],
   "source": [
    "filepaths = [\n",
    "    'nashville0305.csv',\n",
    "    'nashville0608.csv',\n",
    "    'nashville0911.csv',\n",
    "    'nashville1214.csv',\n",
    "    'nashville1516.csv',\n",
    "]\n",
    "data = read_and_combine(*filepaths)\n",
    "data = unify_date_format(data)\n",
    "data.drop(['DAPR','DAPR_ATTRIBUTES','MDPR','MDPR_ATTRIBUTES','SNOW','SNOW_ATTRIBUTES','SNWD','SNWD_ATTRIBUTES'],axis=1,inplace=True)\n",
    "# save the data to csv file\n",
    "data.to_csv('nashville_PRCP.csv',index=False)\n",
    "\n",
    "file_path = 'nashville_PRCP.csv'\n",
    "smallest_missing_stations = find_min_missing_stations(file_path)"
   ]
  },
  {
   "cell_type": "markdown",
   "metadata": {},
   "source": [
    "---"
   ]
  },
  {
   "cell_type": "markdown",
   "metadata": {},
   "source": [
    "# Birmingham"
   ]
  },
  {
   "cell_type": "code",
   "execution_count": 35,
   "metadata": {},
   "outputs": [
    {
     "name": "stdout",
     "output_type": "stream",
     "text": [
      "Total missing value: 889\n",
      "Station: USW00013876, Missing_value: 0\n",
      "Station: US1ALSH0004, Missing_value: 0\n"
     ]
    }
   ],
   "source": [
    "filepaths = [\n",
    "    'birmingham.csv'\n",
    "]\n",
    "data = read_and_combine(*filepaths)\n",
    "data = unify_date_format(data)\n",
    "data.drop(['DAPR','DAPR_ATTRIBUTES','MDPR','MDPR_ATTRIBUTES','SNOW','SNOW_ATTRIBUTES','SNWD','SNWD_ATTRIBUTES'],axis=1,inplace=True)\n",
    "# save the data to csv file\n",
    "data.to_csv('birmingham_PRCP.csv',index=False)\n",
    "\n",
    "file_path = 'birmingham_PRCP.csv'\n",
    "smallest_missing_stations = find_min_missing_stations(file_path)"
   ]
  },
  {
   "cell_type": "markdown",
   "metadata": {},
   "source": [
    "---"
   ]
  },
  {
   "cell_type": "markdown",
   "metadata": {},
   "source": [
    "# Cincinnati"
   ]
  },
  {
   "cell_type": "code",
   "execution_count": 36,
   "metadata": {},
   "outputs": [
    {
     "name": "stdout",
     "output_type": "stream",
     "text": [
      "Total missing value: 727\n",
      "Station: USW00093814, Missing_value: 0\n",
      "Station: US1OHHM0003, Missing_value: 0\n"
     ]
    }
   ],
   "source": [
    "filepaths = [\n",
    "    'cincinnati0310.csv',\n",
    "    'cincinnati116.csv'\n",
    "\n",
    "]\n",
    "data = read_and_combine(*filepaths)\n",
    "data = unify_date_format(data)\n",
    "data.drop(['DAPR','DAPR_ATTRIBUTES','MDPR','MDPR_ATTRIBUTES','SNOW','SNOW_ATTRIBUTES','SNWD','SNWD_ATTRIBUTES'],axis=1,inplace=True)\n",
    "# save the data to csv file\n",
    "data.to_csv('cincinnati_PRCP.csv',index=False)\n",
    "\n",
    "file_path = 'cincinnati_PRCP.csv'\n",
    "smallest_missing_stations = find_min_missing_stations(file_path)"
   ]
  },
  {
   "cell_type": "markdown",
   "metadata": {},
   "source": [
    "---"
   ]
  },
  {
   "cell_type": "markdown",
   "metadata": {},
   "source": [
    "# Huntington"
   ]
  },
  {
   "cell_type": "code",
   "execution_count": 37,
   "metadata": {},
   "outputs": [
    {
     "name": "stderr",
     "output_type": "stream",
     "text": [
      "/var/folders/72/fkccsf2x2cbbvby3pxzcnrv00000gn/T/ipykernel_71969/3410117831.py:4: DtypeWarning: Columns (7,9,11,13) have mixed types. Specify dtype option on import or set low_memory=False.\n",
      "  data_frames = [pd.read_csv(filepath) for filepath in filepaths]\n"
     ]
    },
    {
     "name": "stdout",
     "output_type": "stream",
     "text": [
      "Total missing value: 1678\n",
      "Station: USW00003860, Missing_value: 0\n",
      "Station: US1KYBD0001, Missing_value: 0\n"
     ]
    }
   ],
   "source": [
    "filepaths = [\n",
    "    'huntington.csv'\n",
    "]\n",
    "data = read_and_combine(*filepaths)\n",
    "data = unify_date_format(data)\n",
    "data.drop(['DAPR','DAPR_ATTRIBUTES','MDPR','MDPR_ATTRIBUTES','SNOW','SNOW_ATTRIBUTES','SNWD','SNWD_ATTRIBUTES'],axis=1,inplace=True)\n",
    "# save the data to csv file\n",
    "data.to_csv('huntington_PRCP.csv',index=False)\n",
    "\n",
    "file_path = 'huntington_PRCP.csv'\n",
    "smallest_missing_stations = find_min_missing_stations(file_path)"
   ]
  },
  {
   "cell_type": "markdown",
   "metadata": {},
   "source": [
    "---"
   ]
  },
  {
   "cell_type": "markdown",
   "metadata": {},
   "source": [
    "# Atlanta"
   ]
  },
  {
   "cell_type": "code",
   "execution_count": 38,
   "metadata": {},
   "outputs": [
    {
     "name": "stdout",
     "output_type": "stream",
     "text": [
      "Total missing value: 1590\n",
      "Station: USW00013874, Missing_value: 0\n",
      "Station: US1GAGW0005, Missing_value: 0\n"
     ]
    }
   ],
   "source": [
    "filepaths = [\n",
    "    'atlanta0310.csv',\n",
    "    'atlanta1116.csv'\n",
    "]\n",
    "data = read_and_combine(*filepaths)\n",
    "data = unify_date_format(data)\n",
    "data.drop(['DAPR','DAPR_ATTRIBUTES','MDPR','MDPR_ATTRIBUTES','SNOW','SNOW_ATTRIBUTES','SNWD','SNWD_ATTRIBUTES'],axis=1,inplace=True)\n",
    "# save the data to csv file\n",
    "data.to_csv('atlanta_PRCP.csv',index=False)\n",
    "\n",
    "file_path = 'atlanta_PRCP.csv'\n",
    "smallest_missing_stations = find_min_missing_stations(file_path)"
   ]
  },
  {
   "cell_type": "markdown",
   "metadata": {},
   "source": [
    "---"
   ]
  },
  {
   "cell_type": "markdown",
   "metadata": {},
   "source": [
    "# Portland ME"
   ]
  },
  {
   "cell_type": "code",
   "execution_count": 39,
   "metadata": {},
   "outputs": [
    {
     "name": "stdout",
     "output_type": "stream",
     "text": [
      "Total missing value: 792\n",
      "Station: USW00014764, Missing_value: 0\n",
      "Station: US1MECM0004, Missing_value: 0\n"
     ]
    }
   ],
   "source": [
    "filepaths = [\n",
    "    'portland ME.csv',\n",
    "]\n",
    "data = read_and_combine(*filepaths)\n",
    "data = unify_date_format(data)\n",
    "data.drop(['DAPR','DAPR_ATTRIBUTES','MDPR','MDPR_ATTRIBUTES','SNOW','SNOW_ATTRIBUTES','SNWD','SNWD_ATTRIBUTES'],axis=1,inplace=True)\n",
    "# save the data to csv file\n",
    "data.to_csv('portland ME_PRCP.csv',index=False)\n",
    "\n",
    "file_path = 'portland ME_PRCP.csv'\n",
    "smallest_missing_stations = find_min_missing_stations(file_path)"
   ]
  },
  {
   "cell_type": "markdown",
   "metadata": {},
   "source": [
    "---"
   ]
  },
  {
   "cell_type": "markdown",
   "metadata": {},
   "source": [
    "# Burlington"
   ]
  },
  {
   "cell_type": "code",
   "execution_count": 40,
   "metadata": {},
   "outputs": [
    {
     "name": "stdout",
     "output_type": "stream",
     "text": [
      "Total missing value: 6670\n",
      "Station: USW00014742, Missing_value: 0\n",
      "Station: USC00437607, Missing_value: 0\n"
     ]
    }
   ],
   "source": [
    "filepaths = [\n",
    "    'burlington.csv',\n",
    "]\n",
    "data = read_and_combine(*filepaths)\n",
    "data = unify_date_format(data)\n",
    "data.drop(['DAPR','DAPR_ATTRIBUTES','MDPR','MDPR_ATTRIBUTES','SNOW','SNOW_ATTRIBUTES','SNWD','SNWD_ATTRIBUTES'],axis=1,inplace=True)\n",
    "# save the data to csv file\n",
    "data.to_csv('burlington_PRCP.csv',index=False)\n",
    "\n",
    "file_path = 'burlington_PRCP.csv'\n",
    "smallest_missing_stations = find_min_missing_stations(file_path)"
   ]
  },
  {
   "cell_type": "markdown",
   "metadata": {},
   "source": [
    "---"
   ]
  },
  {
   "cell_type": "markdown",
   "metadata": {},
   "source": [
    "# Nashua"
   ]
  },
  {
   "cell_type": "code",
   "execution_count": 41,
   "metadata": {},
   "outputs": [
    {
     "name": "stdout",
     "output_type": "stream",
     "text": [
      "Total missing value: 823\n",
      "Station: USC00272302, Missing_value: 0\n",
      "Station: US1MAMD0004, Missing_value: 0\n"
     ]
    }
   ],
   "source": [
    "filepaths = [\n",
    "    'nashua0310.csv',\n",
    "    'nashua116.csv',\n",
    "]\n",
    "data = read_and_combine(*filepaths)\n",
    "data = unify_date_format(data)\n",
    "data.drop(['DAPR','DAPR_ATTRIBUTES','MDPR','MDPR_ATTRIBUTES','SNOW','SNOW_ATTRIBUTES','SNWD','SNWD_ATTRIBUTES'],axis=1,inplace=True)\n",
    "# save the data to csv file\n",
    "data.to_csv('nashua_PRCP.csv',index=False)\n",
    "\n",
    "file_path = 'nashua_PRCP.csv'\n",
    "smallest_missing_stations = find_min_missing_stations(file_path)"
   ]
  },
  {
   "cell_type": "markdown",
   "metadata": {},
   "source": [
    "---"
   ]
  },
  {
   "cell_type": "markdown",
   "metadata": {},
   "source": [
    "# Boston"
   ]
  },
  {
   "cell_type": "code",
   "execution_count": 42,
   "metadata": {},
   "outputs": [
    {
     "name": "stderr",
     "output_type": "stream",
     "text": [
      "/var/folders/72/fkccsf2x2cbbvby3pxzcnrv00000gn/T/ipykernel_71969/3410117831.py:4: DtypeWarning: Columns (11) have mixed types. Specify dtype option on import or set low_memory=False.\n",
      "  data_frames = [pd.read_csv(filepath) for filepath in filepaths]\n",
      "/var/folders/72/fkccsf2x2cbbvby3pxzcnrv00000gn/T/ipykernel_71969/1645341043.py:7: DtypeWarning: Columns (7,9) have mixed types. Specify dtype option on import or set low_memory=False.\n",
      "  data = pd.read_csv(filepath)\n"
     ]
    },
    {
     "name": "stdout",
     "output_type": "stream",
     "text": [
      "Total missing value: 3894\n",
      "Station: USC00190860, Missing_value: 0\n",
      "Station: USC00190535, Missing_value: 0\n"
     ]
    }
   ],
   "source": [
    "filepaths = [\n",
    "    'boston0305.csv',\n",
    "    'boston0608.csv',\n",
    "    'boston0911.csv',\n",
    "    'boston1214.csv',\n",
    "    'boston1516.csv',\n",
    "]\n",
    "data = read_and_combine(*filepaths)\n",
    "data = unify_date_format(data)\n",
    "data.drop(['DAPR','DAPR_ATTRIBUTES','MDPR','MDPR_ATTRIBUTES','SNOW','SNOW_ATTRIBUTES','SNWD','SNWD_ATTRIBUTES'],axis=1,inplace=True)\n",
    "# save the data to csv file\n",
    "data.to_csv('boston_PRCP.csv',index=False)\n",
    "\n",
    "file_path = 'boston_PRCP.csv'\n",
    "smallest_missing_stations = find_min_missing_stations(file_path)"
   ]
  },
  {
   "cell_type": "markdown",
   "metadata": {},
   "source": [
    "---"
   ]
  },
  {
   "cell_type": "markdown",
   "metadata": {},
   "source": [
    "# Providence"
   ]
  },
  {
   "cell_type": "code",
   "execution_count": 43,
   "metadata": {},
   "outputs": [
    {
     "name": "stderr",
     "output_type": "stream",
     "text": [
      "/var/folders/72/fkccsf2x2cbbvby3pxzcnrv00000gn/T/ipykernel_71969/3410117831.py:4: DtypeWarning: Columns (9,13) have mixed types. Specify dtype option on import or set low_memory=False.\n",
      "  data_frames = [pd.read_csv(filepath) for filepath in filepaths]\n"
     ]
    },
    {
     "name": "stdout",
     "output_type": "stream",
     "text": [
      "Total missing value: 885\n",
      "Station: USW00014765, Missing_value: 0\n",
      "Station: US1RIWS0004, Missing_value: 0\n"
     ]
    }
   ],
   "source": [
    "filepaths = [\n",
    "    'providence0309.csv',\n",
    "    'providence1016.csv',\n",
    "]\n",
    "data = read_and_combine(*filepaths)\n",
    "data = unify_date_format(data)\n",
    "data.drop(['DAPR','DAPR_ATTRIBUTES','MDPR','MDPR_ATTRIBUTES','SNOW','SNOW_ATTRIBUTES','SNWD','SNWD_ATTRIBUTES'],axis=1,inplace=True)\n",
    "# save the data to csv file\n",
    "data.to_csv('providence_PRCP.csv',index=False)\n",
    "\n",
    "file_path = 'providence_PRCP.csv'\n",
    "smallest_missing_stations = find_min_missing_stations(file_path)"
   ]
  },
  {
   "cell_type": "markdown",
   "metadata": {},
   "source": [
    "---"
   ]
  },
  {
   "cell_type": "markdown",
   "metadata": {},
   "source": [
    "# New York"
   ]
  },
  {
   "cell_type": "code",
   "execution_count": 44,
   "metadata": {},
   "outputs": [
    {
     "name": "stderr",
     "output_type": "stream",
     "text": [
      "/var/folders/72/fkccsf2x2cbbvby3pxzcnrv00000gn/T/ipykernel_71969/3410117831.py:4: DtypeWarning: Columns (13) have mixed types. Specify dtype option on import or set low_memory=False.\n",
      "  data_frames = [pd.read_csv(filepath) for filepath in filepaths]\n",
      "/var/folders/72/fkccsf2x2cbbvby3pxzcnrv00000gn/T/ipykernel_71969/3410117831.py:4: DtypeWarning: Columns (9,13) have mixed types. Specify dtype option on import or set low_memory=False.\n",
      "  data_frames = [pd.read_csv(filepath) for filepath in filepaths]\n",
      "/var/folders/72/fkccsf2x2cbbvby3pxzcnrv00000gn/T/ipykernel_71969/1645341043.py:7: DtypeWarning: Columns (7,9) have mixed types. Specify dtype option on import or set low_memory=False.\n",
      "  data = pd.read_csv(filepath)\n"
     ]
    },
    {
     "name": "stdout",
     "output_type": "stream",
     "text": [
      "Total missing value: 4917\n",
      "Station: USC00305796, Missing_value: 0\n",
      "Station: USW00014732, Missing_value: 0\n"
     ]
    }
   ],
   "source": [
    "filepaths = [\n",
    "    'newyork0305.csv',\n",
    "    'newyork0608.csv',\n",
    "    'newyork0911.csv',\n",
    "    'newyork1214.csv',\n",
    "    'newyork1516.csv',\n",
    "]\n",
    "data = read_and_combine(*filepaths)\n",
    "data = unify_date_format(data)\n",
    "data.drop(['DAPR','DAPR_ATTRIBUTES','MDPR','MDPR_ATTRIBUTES','SNOW','SNOW_ATTRIBUTES','SNWD','SNWD_ATTRIBUTES'],axis=1,inplace=True)\n",
    "# save the data to csv file\n",
    "data.to_csv('newyork_PRCP.csv',index=False)\n",
    "\n",
    "file_path = 'newyork_PRCP.csv'\n",
    "smallest_missing_stations = find_min_missing_stations(file_path)"
   ]
  },
  {
   "cell_type": "markdown",
   "metadata": {},
   "source": [
    "---"
   ]
  },
  {
   "cell_type": "markdown",
   "metadata": {},
   "source": [
    "# Bridgeport"
   ]
  },
  {
   "cell_type": "code",
   "execution_count": 45,
   "metadata": {},
   "outputs": [
    {
     "name": "stdout",
     "output_type": "stream",
     "text": [
      "Total missing value: 102\n",
      "Station: USW00094702, Missing_value: 0\n",
      "Station: USC00067157, Missing_value: 0\n"
     ]
    }
   ],
   "source": [
    "filepaths = [\n",
    "    'bridgeport.csv',\n",
    "]\n",
    "data = read_and_combine(*filepaths)\n",
    "data = unify_date_format(data)\n",
    "data.drop(['DAPR','DAPR_ATTRIBUTES','MDPR','MDPR_ATTRIBUTES','SNOW','SNOW_ATTRIBUTES','SNWD','SNWD_ATTRIBUTES'],axis=1,inplace=True)\n",
    "# save the data to csv file\n",
    "data.to_csv('bridgeport_PRCP.csv',index=False)\n",
    "\n",
    "file_path = 'bridgeport_PRCP.csv'\n",
    "smallest_missing_stations = find_min_missing_stations(file_path)"
   ]
  },
  {
   "cell_type": "markdown",
   "metadata": {},
   "source": [
    "---"
   ]
  },
  {
   "cell_type": "markdown",
   "metadata": {},
   "source": [
    "# Philadelphia"
   ]
  },
  {
   "cell_type": "code",
   "execution_count": 46,
   "metadata": {},
   "outputs": [
    {
     "name": "stderr",
     "output_type": "stream",
     "text": [
      "/var/folders/72/fkccsf2x2cbbvby3pxzcnrv00000gn/T/ipykernel_71969/3410117831.py:4: DtypeWarning: Columns (13) have mixed types. Specify dtype option on import or set low_memory=False.\n",
      "  data_frames = [pd.read_csv(filepath) for filepath in filepaths]\n",
      "/var/folders/72/fkccsf2x2cbbvby3pxzcnrv00000gn/T/ipykernel_71969/1645341043.py:7: DtypeWarning: Columns (7,9) have mixed types. Specify dtype option on import or set low_memory=False.\n",
      "  data = pd.read_csv(filepath)\n"
     ]
    },
    {
     "name": "stdout",
     "output_type": "stream",
     "text": [
      "Total missing value: 5329\n",
      "Station: USW00013781, Missing_value: 0\n",
      "Station: US1PABK0015, Missing_value: 0\n"
     ]
    }
   ],
   "source": [
    "filepaths = [\n",
    "    'philadelphia0304.csv',\n",
    "    'philadelphia0506.csv',\n",
    "    'philadelphia0708.csv',\n",
    "    'philadelphia0910.csv',\n",
    "    'philadelphia1112.csv',\n",
    "    'philadelphia1314.csv',\n",
    "    'philadelphia1516.csv'\n",
    "]\n",
    "data = read_and_combine(*filepaths)\n",
    "data = unify_date_format(data)\n",
    "data.drop(['DAPR','DAPR_ATTRIBUTES','MDPR','MDPR_ATTRIBUTES','SNOW','SNOW_ATTRIBUTES','SNWD','SNWD_ATTRIBUTES'],axis=1,inplace=True)\n",
    "# save the data to csv file\n",
    "data.to_csv('philadelphia_PRCP.csv',index=False)\n",
    "\n",
    "file_path = 'philadelphia_PRCP.csv'\n",
    "smallest_missing_stations = find_min_missing_stations(file_path)"
   ]
  },
  {
   "cell_type": "markdown",
   "metadata": {},
   "source": [
    "---"
   ]
  },
  {
   "cell_type": "markdown",
   "metadata": {},
   "source": [
    "# Trenton"
   ]
  },
  {
   "cell_type": "code",
   "execution_count": 47,
   "metadata": {},
   "outputs": [
    {
     "name": "stdout",
     "output_type": "stream",
     "text": [
      "Total missing value: 3923\n",
      "Station: USC00288880, Missing_value: 0\n",
      "Station: USW00014792, Missing_value: 0\n"
     ]
    }
   ],
   "source": [
    "filepaths = [\n",
    "    'trenton0310.csv',\n",
    "    'trenton1116.csv'\n",
    "]\n",
    "data = read_and_combine(*filepaths)\n",
    "data = unify_date_format(data)\n",
    "data.drop(['DAPR','DAPR_ATTRIBUTES','MDPR','MDPR_ATTRIBUTES','SNOW','SNOW_ATTRIBUTES','SNWD','SNWD_ATTRIBUTES'],axis=1,inplace=True)\n",
    "# save the data to csv file\n",
    "data.to_csv('trenton_PRCP.csv',index=False)\n",
    "\n",
    "file_path = 'trenton_PRCP.csv'\n",
    "smallest_missing_stations = find_min_missing_stations(file_path)"
   ]
  },
  {
   "cell_type": "markdown",
   "metadata": {},
   "source": [
    "---"
   ]
  },
  {
   "cell_type": "markdown",
   "metadata": {},
   "source": [
    "# Dover"
   ]
  },
  {
   "cell_type": "code",
   "execution_count": 48,
   "metadata": {},
   "outputs": [
    {
     "name": "stdout",
     "output_type": "stream",
     "text": [
      "Total missing value: 272\n",
      "Station: USC00078508, Missing_value: 0\n",
      "Station: US1DEKN0015, Missing_value: 0\n"
     ]
    }
   ],
   "source": [
    "filepaths = [\n",
    "    'dover.csv',\n",
    "]\n",
    "data = read_and_combine(*filepaths)\n",
    "data = unify_date_format(data)\n",
    "data.drop(['DAPR','DAPR_ATTRIBUTES','MDPR','MDPR_ATTRIBUTES','SNOW','SNOW_ATTRIBUTES','SNWD','SNWD_ATTRIBUTES'],axis=1,inplace=True)\n",
    "# save the data to csv file\n",
    "data.to_csv('dover_PRCP.csv',index=False)\n",
    "\n",
    "file_path = 'dover_PRCP.csv'\n",
    "smallest_missing_stations = find_min_missing_stations(file_path)"
   ]
  },
  {
   "cell_type": "markdown",
   "metadata": {},
   "source": [
    "---"
   ]
  },
  {
   "cell_type": "markdown",
   "metadata": {},
   "source": [
    "# Baltimore"
   ]
  },
  {
   "cell_type": "code",
   "execution_count": 51,
   "metadata": {},
   "outputs": [
    {
     "name": "stderr",
     "output_type": "stream",
     "text": [
      "/var/folders/72/fkccsf2x2cbbvby3pxzcnrv00000gn/T/ipykernel_71969/3410117831.py:4: DtypeWarning: Columns (9,13) have mixed types. Specify dtype option on import or set low_memory=False.\n",
      "  data_frames = [pd.read_csv(filepath) for filepath in filepaths]\n",
      "/var/folders/72/fkccsf2x2cbbvby3pxzcnrv00000gn/T/ipykernel_71969/1645341043.py:7: DtypeWarning: Columns (7,9) have mixed types. Specify dtype option on import or set low_memory=False.\n",
      "  data = pd.read_csv(filepath)\n"
     ]
    },
    {
     "name": "stdout",
     "output_type": "stream",
     "text": [
      "Total missing value: 4892\n",
      "Station: USW00093721, Missing_value: 0\n",
      "Station: USC00185934, Missing_value: 0\n"
     ]
    }
   ],
   "source": [
    "filepaths = [\n",
    "    'baltimore0305.csv',\n",
    "    'baltimore0608.csv',\n",
    "    'baltimore0911.csv',\n",
    "    'baltimore1214.csv',\n",
    "    'baltimore1516.csv',\n",
    "]\n",
    "data = read_and_combine(*filepaths)\n",
    "data = unify_date_format(data)\n",
    "data.drop(['DAPR','DAPR_ATTRIBUTES','MDPR','MDPR_ATTRIBUTES','SNOW','SNOW_ATTRIBUTES','SNWD','SNWD_ATTRIBUTES'],axis=1,inplace=True)\n",
    "# save the data to csv file\n",
    "data.to_csv('baltimore_PRCP.csv',index=False)\n",
    "\n",
    "file_path = 'baltimore_PRCP.csv'\n",
    "smallest_missing_stations = find_min_missing_stations(file_path)"
   ]
  },
  {
   "cell_type": "markdown",
   "metadata": {},
   "source": [
    "---"
   ]
  },
  {
   "cell_type": "markdown",
   "metadata": {},
   "source": [
    "# Virginia Beach"
   ]
  },
  {
   "cell_type": "code",
   "execution_count": 50,
   "metadata": {},
   "outputs": [
    {
     "name": "stdout",
     "output_type": "stream",
     "text": [
      "Total missing value: 6404\n",
      "Station: USC00446147, Missing_value: 0\n",
      "Station: US1VAVBC002, Missing_value: 0\n"
     ]
    }
   ],
   "source": [
    "filepaths = [\n",
    "    'virginiabeach.csv',\n",
    "]\n",
    "data = read_and_combine(*filepaths)\n",
    "data = unify_date_format(data)\n",
    "data.drop(['DAPR','DAPR_ATTRIBUTES','MDPR','MDPR_ATTRIBUTES','SNOW','SNOW_ATTRIBUTES','SNWD','SNWD_ATTRIBUTES'],axis=1,inplace=True)\n",
    "# save the data to csv file\n",
    "data.to_csv('virginiabeach_PRCP.csv',index=False)\n",
    "\n",
    "file_path = 'virginiabeach_PRCP.csv'\n",
    "smallest_missing_stations = find_min_missing_stations(file_path)"
   ]
  },
  {
   "cell_type": "markdown",
   "metadata": {},
   "source": [
    "---"
   ]
  },
  {
   "cell_type": "markdown",
   "metadata": {},
   "source": [
    "# Charlotte"
   ]
  },
  {
   "cell_type": "code",
   "execution_count": 52,
   "metadata": {},
   "outputs": [
    {
     "name": "stderr",
     "output_type": "stream",
     "text": [
      "/var/folders/72/fkccsf2x2cbbvby3pxzcnrv00000gn/T/ipykernel_71969/3410117831.py:4: DtypeWarning: Columns (13) have mixed types. Specify dtype option on import or set low_memory=False.\n",
      "  data_frames = [pd.read_csv(filepath) for filepath in filepaths]\n",
      "/var/folders/72/fkccsf2x2cbbvby3pxzcnrv00000gn/T/ipykernel_71969/1645341043.py:7: DtypeWarning: Columns (9) have mixed types. Specify dtype option on import or set low_memory=False.\n",
      "  data = pd.read_csv(filepath)\n"
     ]
    },
    {
     "name": "stdout",
     "output_type": "stream",
     "text": [
      "Total missing value: 7791\n",
      "Station: USW00013881, Missing_value: 0\n",
      "Station: US1NCLN0008, Missing_value: 0\n"
     ]
    }
   ],
   "source": [
    "filepaths = [\n",
    "    'charlotte0306.csv',\n",
    "    'charlotte0710.csv',\n",
    "    'charlotte1113.csv',\n",
    "    'charlotte1416.csv',\n",
    "]\n",
    "data = read_and_combine(*filepaths)\n",
    "data = unify_date_format(data)\n",
    "data.drop(['DAPR','DAPR_ATTRIBUTES','MDPR','MDPR_ATTRIBUTES','SNOW','SNOW_ATTRIBUTES','SNWD','SNWD_ATTRIBUTES'],axis=1,inplace=True)\n",
    "# save the data to csv file\n",
    "data.to_csv('charlotte_PRCP.csv',index=False)\n",
    "\n",
    "file_path = 'charlotte_PRCP.csv'\n",
    "smallest_missing_stations = find_min_missing_stations(file_path)"
   ]
  },
  {
   "cell_type": "markdown",
   "metadata": {},
   "source": [
    "---"
   ]
  },
  {
   "cell_type": "markdown",
   "metadata": {},
   "source": [
    "# Charleston"
   ]
  },
  {
   "cell_type": "code",
   "execution_count": 53,
   "metadata": {},
   "outputs": [
    {
     "name": "stdout",
     "output_type": "stream",
     "text": [
      "Total missing value: 2022\n",
      "Station: USW00013880, Missing_value: 0\n",
      "Station: USW00013782, Missing_value: 0\n"
     ]
    }
   ],
   "source": [
    "filepaths = [\n",
    "    'charleston0308.csv',\n",
    "    'charleston0913.csv',\n",
    "    'charleston1416.csv'\n",
    "]\n",
    "data = read_and_combine(*filepaths)\n",
    "data = unify_date_format(data)\n",
    "data.drop(['DAPR','DAPR_ATTRIBUTES','MDPR','MDPR_ATTRIBUTES','SNOW','SNOW_ATTRIBUTES','SNWD','SNWD_ATTRIBUTES'],axis=1,inplace=True)\n",
    "# save the data to csv file\n",
    "data.to_csv('charleston_PRCP.csv',index=False)\n",
    "\n",
    "file_path = 'charleston_PRCP.csv'\n",
    "smallest_missing_stations = find_min_missing_stations(file_path)"
   ]
  },
  {
   "cell_type": "markdown",
   "metadata": {},
   "source": [
    "---"
   ]
  },
  {
   "cell_type": "markdown",
   "metadata": {},
   "source": [
    "# Miami"
   ]
  },
  {
   "cell_type": "code",
   "execution_count": 54,
   "metadata": {},
   "outputs": [
    {
     "name": "stderr",
     "output_type": "stream",
     "text": [
      "/var/folders/72/fkccsf2x2cbbvby3pxzcnrv00000gn/T/ipykernel_71969/3410117831.py:4: DtypeWarning: Columns (7,9) have mixed types. Specify dtype option on import or set low_memory=False.\n",
      "  data_frames = [pd.read_csv(filepath) for filepath in filepaths]\n"
     ]
    },
    {
     "name": "stdout",
     "output_type": "stream",
     "text": [
      "Total missing value: 1124\n",
      "Station: USW00012839, Missing_value: 0\n",
      "Station: USC00085667, Missing_value: 0\n"
     ]
    }
   ],
   "source": [
    "filepaths = [\n",
    "    'miami0310.csv',\n",
    "    'miami1116.csv',\n",
    "]\n",
    "data = read_and_combine(*filepaths)\n",
    "data = unify_date_format(data)\n",
    "data.drop(['DAPR','DAPR_ATTRIBUTES','MDPR','MDPR_ATTRIBUTES','SNOW','SNOW_ATTRIBUTES','SNWD','SNWD_ATTRIBUTES'],axis=1,inplace=True)\n",
    "# save the data to csv file\n",
    "data.to_csv('miami_PRCP.csv',index=False)\n",
    "\n",
    "file_path = 'miami_PRCP.csv'\n",
    "smallest_missing_stations = find_min_missing_stations(file_path)"
   ]
  },
  {
   "cell_type": "markdown",
   "metadata": {},
   "source": []
  }
 ],
 "metadata": {
  "kernelspec": {
   "display_name": "neural_network",
   "language": "python",
   "name": "python3"
  },
  "language_info": {
   "codemirror_mode": {
    "name": "ipython",
    "version": 3
   },
   "file_extension": ".py",
   "mimetype": "text/x-python",
   "name": "python",
   "nbconvert_exporter": "python",
   "pygments_lexer": "ipython3",
   "version": "3.10.4"
  },
  "orig_nbformat": 4
 },
 "nbformat": 4,
 "nbformat_minor": 2
}
