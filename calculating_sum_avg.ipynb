{
 "cells": [
  {
   "cell_type": "markdown",
   "metadata": {},
   "source": [
    "# This file works for calculating the sum and average of the selected stations."
   ]
  },
  {
   "cell_type": "markdown",
   "metadata": {},
   "source": [
    "---"
   ]
  },
  {
   "cell_type": "markdown",
   "metadata": {},
   "source": [
    "# Seattle"
   ]
  },
  {
   "cell_type": "code",
   "execution_count": 9,
   "metadata": {},
   "outputs": [
    {
     "name": "stdout",
     "output_type": "stream",
     "text": [
      "PRCP sum of US1WAPR0014 is 42.949999999999996\n",
      "PRCP avg of US1WAPR0014 is 0.17459349593495932\n",
      "PRCP sum of US1WAKP0013 is 482.14\n",
      "PRCP avg of US1WAKP0013 is 0.15527858293075683\n"
     ]
    }
   ],
   "source": [
    "import pandas as pd\n",
    "\n",
    "def calculate_sum_avg(filepath, *station_names):\n",
    "    data = pd.read_csv(filepath)\n",
    "    for station_name in station_names:\n",
    "        station_data = data[data['STATION'] == station_name]\n",
    "        PRCP_sum = station_data['PRCP'].sum()\n",
    "        PRCP_avg = station_data['PRCP'].mean()\n",
    "        print(f\"PRCP sum of {station_name} is {PRCP_sum}\")\n",
    "        print(f\"PRCP avg of {station_name} is {PRCP_avg}\")\n",
    "\n",
    "calculate_sum_avg('seattle_PRCP.csv', 'US1WAPR0014', 'US1WAKP0013')"
   ]
  },
  {
   "cell_type": "markdown",
   "metadata": {},
   "source": [
    "---"
   ]
  },
  {
   "cell_type": "markdown",
   "metadata": {},
   "source": [
    "# Portland OR"
   ]
  },
  {
   "cell_type": "code",
   "execution_count": 12,
   "metadata": {},
   "outputs": [
    {
     "name": "stdout",
     "output_type": "stream",
     "text": [
      "PRCP sum of USW00024229 is 518.25\n",
      "PRCP avg of USW00024229 is 0.10133946030504497\n",
      "PRCP sum of US1ORCC0001 is 20.08\n",
      "PRCP avg of US1ORCC0001 is 0.11742690058479531\n"
     ]
    }
   ],
   "source": [
    "import pandas as pd\n",
    "\n",
    "def calculate_sum_avg(filepath, *station_names):\n",
    "    data = pd.read_csv(filepath)\n",
    "    for station_name in station_names:\n",
    "        station_data = data[data['STATION'] == station_name]\n",
    "        PRCP_sum = station_data['PRCP'].sum()\n",
    "        PRCP_avg = station_data['PRCP'].mean()\n",
    "        print(f\"PRCP sum of {station_name} is {PRCP_sum}\")\n",
    "        print(f\"PRCP avg of {station_name} is {PRCP_avg}\")\n",
    "\n",
    "calculate_sum_avg('portlandOR_PRCP.csv', 'USW00024229', 'US1ORCC0001')"
   ]
  },
  {
   "cell_type": "markdown",
   "metadata": {},
   "source": [
    "---"
   ]
  },
  {
   "cell_type": "markdown",
   "metadata": {},
   "source": [
    "# Los Angeles, CA"
   ]
  },
  {
   "cell_type": "code",
   "execution_count": 13,
   "metadata": {},
   "outputs": [
    {
     "name": "stdout",
     "output_type": "stream",
     "text": [
      "PRCP sum of USW00023152 is 171.52999999999997\n",
      "PRCP avg of USW00023152 is 0.033560946977108194\n",
      "PRCP sum of USC00049785 is 190.7\n",
      "PRCP avg of USC00049785 is 0.037297085859573635\n"
     ]
    }
   ],
   "source": [
    "import pandas as pd\n",
    "\n",
    "def calculate_sum_avg(filepath, *station_names):\n",
    "    data = pd.read_csv(filepath)\n",
    "    for station_name in station_names:\n",
    "        station_data = data[data['STATION'] == station_name]\n",
    "        PRCP_sum = station_data['PRCP'].sum()\n",
    "        PRCP_avg = station_data['PRCP'].mean()\n",
    "        print(f\"PRCP sum of {station_name} is {PRCP_sum}\")\n",
    "        print(f\"PRCP avg of {station_name} is {PRCP_avg}\")\n",
    "\n",
    "calculate_sum_avg('losangeles_PRCP.csv', 'USW00023152', 'USC00049785')"
   ]
  },
  {
   "cell_type": "markdown",
   "metadata": {},
   "source": [
    "---"
   ]
  },
  {
   "cell_type": "markdown",
   "metadata": {},
   "source": [
    "# Boise"
   ]
  },
  {
   "cell_type": "code",
   "execution_count": 14,
   "metadata": {},
   "outputs": [
    {
     "name": "stdout",
     "output_type": "stream",
     "text": [
      "PRCP sum of USW00024131 is 157.60000000000002\n",
      "PRCP avg of USW00024131 is 0.030817364098552995\n",
      "PRCP sum of USS0016F02S is 439.1\n",
      "PRCP avg of USS0016F02S is 0.08586233867813844\n"
     ]
    }
   ],
   "source": [
    "import pandas as pd\n",
    "\n",
    "def calculate_sum_avg(filepath, *station_names):\n",
    "    data = pd.read_csv(filepath)\n",
    "    for station_name in station_names:\n",
    "        station_data = data[data['STATION'] == station_name]\n",
    "        PRCP_sum = station_data['PRCP'].sum()\n",
    "        PRCP_avg = station_data['PRCP'].mean()\n",
    "        print(f\"PRCP sum of {station_name} is {PRCP_sum}\")\n",
    "        print(f\"PRCP avg of {station_name} is {PRCP_avg}\")\n",
    "\n",
    "calculate_sum_avg('Boise_PRCP.csv', 'USW00024131', 'USS0016F02S')"
   ]
  },
  {
   "cell_type": "markdown",
   "metadata": {},
   "source": [
    "---"
   ]
  },
  {
   "cell_type": "markdown",
   "metadata": {},
   "source": [
    "# Las Vegas, NV"
   ]
  },
  {
   "cell_type": "code",
   "execution_count": 15,
   "metadata": {},
   "outputs": [
    {
     "name": "stdout",
     "output_type": "stream",
     "text": [
      "PRCP sum of USC00264439 is 66.12\n",
      "PRCP avg of USC00264439 is 0.012929213922565507\n",
      "PRCP sum of USW00023169 is 58.22\n",
      "PRCP avg of USW00023169 is 0.011384434884630427\n"
     ]
    },
    {
     "name": "stderr",
     "output_type": "stream",
     "text": [
      "/var/folders/72/fkccsf2x2cbbvby3pxzcnrv00000gn/T/ipykernel_73292/2515635856.py:4: DtypeWarning: Columns (7,9) have mixed types. Specify dtype option on import or set low_memory=False.\n",
      "  data = pd.read_csv(filepath)\n"
     ]
    }
   ],
   "source": [
    "import pandas as pd\n",
    "\n",
    "def calculate_sum_avg(filepath, *station_names):\n",
    "    data = pd.read_csv(filepath)\n",
    "    for station_name in station_names:\n",
    "        station_data = data[data['STATION'] == station_name]\n",
    "        PRCP_sum = station_data['PRCP'].sum()\n",
    "        PRCP_avg = station_data['PRCP'].mean()\n",
    "        print(f\"PRCP sum of {station_name} is {PRCP_sum}\")\n",
    "        print(f\"PRCP avg of {station_name} is {PRCP_avg}\")\n",
    "\n",
    "calculate_sum_avg('las vegas_PRCP.csv', 'USC00264439', 'USW00023169')"
   ]
  },
  {
   "cell_type": "markdown",
   "metadata": {},
   "source": [
    "---"
   ]
  },
  {
   "cell_type": "markdown",
   "metadata": {},
   "source": [
    "# Billings"
   ]
  },
  {
   "cell_type": "code",
   "execution_count": 16,
   "metadata": {},
   "outputs": [
    {
     "name": "stdout",
     "output_type": "stream",
     "text": [
      "PRCP sum of USW00024033 is 194.35000000000002\n",
      "PRCP avg of USW00024033 is 0.03800351974970669\n",
      "PRCP sum of USC00240801 is 203.3\n",
      "PRCP avg of USC00240801 is 0.04048187972919156\n"
     ]
    }
   ],
   "source": [
    "import pandas as pd\n",
    "\n",
    "def calculate_sum_avg(filepath, *station_names):\n",
    "    data = pd.read_csv(filepath)\n",
    "    for station_name in station_names:\n",
    "        station_data = data[data['STATION'] == station_name]\n",
    "        PRCP_sum = station_data['PRCP'].sum()\n",
    "        PRCP_avg = station_data['PRCP'].mean()\n",
    "        print(f\"PRCP sum of {station_name} is {PRCP_sum}\")\n",
    "        print(f\"PRCP avg of {station_name} is {PRCP_avg}\")\n",
    "\n",
    "calculate_sum_avg('billings_PRCP.csv', 'USW00024033', 'USC00240801')"
   ]
  },
  {
   "cell_type": "markdown",
   "metadata": {},
   "source": [
    "---"
   ]
  },
  {
   "cell_type": "markdown",
   "metadata": {},
   "source": [
    "# Cheyenne"
   ]
  },
  {
   "cell_type": "code",
   "execution_count": 17,
   "metadata": {},
   "outputs": [
    {
     "name": "stdout",
     "output_type": "stream",
     "text": [
      "PRCP sum of USW00024018 is 217.86\n",
      "PRCP avg of USW00024018 is 0.04260070394994134\n",
      "PRCP sum of USC00481676 is 223.13\n",
      "PRCP avg of USC00481676 is 0.04496775493752519\n"
     ]
    },
    {
     "name": "stderr",
     "output_type": "stream",
     "text": [
      "/var/folders/72/fkccsf2x2cbbvby3pxzcnrv00000gn/T/ipykernel_73292/1393047835.py:4: DtypeWarning: Columns (7,9) have mixed types. Specify dtype option on import or set low_memory=False.\n",
      "  data = pd.read_csv(filepath)\n"
     ]
    }
   ],
   "source": [
    "import pandas as pd\n",
    "\n",
    "def calculate_sum_avg(filepath, *station_names):\n",
    "    data = pd.read_csv(filepath)\n",
    "    for station_name in station_names:\n",
    "        station_data = data[data['STATION'] == station_name]\n",
    "        PRCP_sum = station_data['PRCP'].sum()\n",
    "        PRCP_avg = station_data['PRCP'].mean()\n",
    "        print(f\"PRCP sum of {station_name} is {PRCP_sum}\")\n",
    "        print(f\"PRCP avg of {station_name} is {PRCP_avg}\")\n",
    "\n",
    "calculate_sum_avg('cheyenne_PRCP.csv', 'USW00024018', 'USC00481676')"
   ]
  },
  {
   "cell_type": "markdown",
   "metadata": {},
   "source": [
    "---"
   ]
  },
  {
   "cell_type": "markdown",
   "metadata": {},
   "source": [
    "# SaltLakeCity"
   ]
  },
  {
   "cell_type": "code",
   "execution_count": 18,
   "metadata": {},
   "outputs": [
    {
     "name": "stdout",
     "output_type": "stream",
     "text": [
      "PRCP sum of USW00024127 is 212.36\n",
      "PRCP avg of USW00024127 is 0.04152522487289793\n",
      "PRCP sum of USS0011J42S is 770.5\n",
      "PRCP avg of USS0011J42S is 0.1506648416112632\n"
     ]
    },
    {
     "name": "stderr",
     "output_type": "stream",
     "text": [
      "/var/folders/72/fkccsf2x2cbbvby3pxzcnrv00000gn/T/ipykernel_73292/42846889.py:4: DtypeWarning: Columns (7,9) have mixed types. Specify dtype option on import or set low_memory=False.\n",
      "  data = pd.read_csv(filepath)\n"
     ]
    }
   ],
   "source": [
    "import pandas as pd\n",
    "\n",
    "def calculate_sum_avg(filepath, *station_names):\n",
    "    data = pd.read_csv(filepath)\n",
    "    for station_name in station_names:\n",
    "        station_data = data[data['STATION'] == station_name]\n",
    "        PRCP_sum = station_data['PRCP'].sum()\n",
    "        PRCP_avg = station_data['PRCP'].mean()\n",
    "        print(f\"PRCP sum of {station_name} is {PRCP_sum}\")\n",
    "        print(f\"PRCP avg of {station_name} is {PRCP_avg}\")\n",
    "\n",
    "calculate_sum_avg('saltlakecity_PRCP.csv', 'USW00024127', 'USS0011J42S')"
   ]
  },
  {
   "cell_type": "markdown",
   "metadata": {},
   "source": [
    "---"
   ]
  },
  {
   "cell_type": "markdown",
   "metadata": {},
   "source": [
    "# Phoenix"
   ]
  },
  {
   "cell_type": "code",
   "execution_count": 19,
   "metadata": {},
   "outputs": [
    {
     "name": "stdout",
     "output_type": "stream",
     "text": [
      "PRCP sum of USC00028112 is 31.5\n",
      "PRCP avg of USC00028112 is 0.019540942928039703\n",
      "PRCP sum of USW00023183 is 93.39000000000001\n",
      "PRCP avg of USW00023183 is 0.01826163472819711\n"
     ]
    }
   ],
   "source": [
    "import pandas as pd\n",
    "\n",
    "def calculate_sum_avg(filepath, *station_names):\n",
    "    data = pd.read_csv(filepath)\n",
    "    for station_name in station_names:\n",
    "        station_data = data[data['STATION'] == station_name]\n",
    "        PRCP_sum = station_data['PRCP'].sum()\n",
    "        PRCP_avg = station_data['PRCP'].mean()\n",
    "        print(f\"PRCP sum of {station_name} is {PRCP_sum}\")\n",
    "        print(f\"PRCP avg of {station_name} is {PRCP_avg}\")\n",
    "\n",
    "calculate_sum_avg('phoenix_PRCP.csv', 'USC00028112', 'USW00023183')"
   ]
  },
  {
   "cell_type": "markdown",
   "metadata": {},
   "source": [
    "---"
   ]
  },
  {
   "cell_type": "markdown",
   "metadata": {},
   "source": [
    "# Denver"
   ]
  },
  {
   "cell_type": "code",
   "execution_count": 21,
   "metadata": {},
   "outputs": [
    {
     "name": "stdout",
     "output_type": "stream",
     "text": [
      "PRCP sum of US1COJF0092 is 18.3\n",
      "PRCP avg of US1COJF0092 is 0.08883495145631068\n",
      "PRCP sum of US1COAR0068 is 242.71000000000004\n",
      "PRCP avg of US1COAR0068 is 0.0632551472504561\n"
     ]
    },
    {
     "name": "stderr",
     "output_type": "stream",
     "text": [
      "/var/folders/72/fkccsf2x2cbbvby3pxzcnrv00000gn/T/ipykernel_73292/3357689528.py:4: DtypeWarning: Columns (9,10) have mixed types. Specify dtype option on import or set low_memory=False.\n",
      "  data = pd.read_csv(filepath)\n"
     ]
    }
   ],
   "source": [
    "import pandas as pd\n",
    "\n",
    "def calculate_sum_avg(filepath, *station_names):\n",
    "    data = pd.read_csv(filepath)\n",
    "    for station_name in station_names:\n",
    "        station_data = data[data['STATION'] == station_name]\n",
    "        PRCP_sum = station_data['PRCP'].sum()\n",
    "        PRCP_avg = station_data['PRCP'].mean()\n",
    "        print(f\"PRCP sum of {station_name} is {PRCP_sum}\")\n",
    "        print(f\"PRCP avg of {station_name} is {PRCP_avg}\")\n",
    "\n",
    "calculate_sum_avg('denver_PRCP.csv', 'US1COJF0092', 'US1COAR0068')"
   ]
  },
  {
   "cell_type": "markdown",
   "metadata": {},
   "source": [
    "---"
   ]
  },
  {
   "cell_type": "markdown",
   "metadata": {},
   "source": [
    "# Albuquerque, NM"
   ]
  },
  {
   "cell_type": "code",
   "execution_count": 23,
   "metadata": {},
   "outputs": [
    {
     "name": "stdout",
     "output_type": "stream",
     "text": [
      "PRCP sum of USC00290231 is 139.72\n",
      "PRCP avg of USC00290231 is 0.02732107938991005\n",
      "PRCP sum of USC00292753 is 82.7\n",
      "PRCP avg of USC00292753 is 0.04453419493807216\n"
     ]
    },
    {
     "name": "stderr",
     "output_type": "stream",
     "text": [
      "/var/folders/72/fkccsf2x2cbbvby3pxzcnrv00000gn/T/ipykernel_73292/2199642779.py:4: DtypeWarning: Columns (7,9) have mixed types. Specify dtype option on import or set low_memory=False.\n",
      "  data = pd.read_csv(filepath)\n"
     ]
    }
   ],
   "source": [
    "import pandas as pd\n",
    "\n",
    "def calculate_sum_avg(filepath, *station_names):\n",
    "    data = pd.read_csv(filepath)\n",
    "    for station_name in station_names:\n",
    "        station_data = data[data['STATION'] == station_name]\n",
    "        PRCP_sum = station_data['PRCP'].sum()\n",
    "        PRCP_avg = station_data['PRCP'].mean()\n",
    "        print(f\"PRCP sum of {station_name} is {PRCP_sum}\")\n",
    "        print(f\"PRCP avg of {station_name} is {PRCP_avg}\")\n",
    "\n",
    "calculate_sum_avg('albuquerque_PRCP.csv', 'USC00290231', 'USC00292753')"
   ]
  },
  {
   "cell_type": "markdown",
   "metadata": {},
   "source": [
    "---"
   ]
  },
  {
   "cell_type": "markdown",
   "metadata": {},
   "source": [
    "# Fargo"
   ]
  },
  {
   "cell_type": "code",
   "execution_count": 24,
   "metadata": {},
   "outputs": [
    {
     "name": "stdout",
     "output_type": "stream",
     "text": [
      "PRCP sum of USW00014914 is 339.03999999999996\n",
      "PRCP avg of USW00014914 is 0.06629644114196323\n",
      "PRCP sum of USC00215586 is 257.49\n",
      "PRCP avg of USC00215586 is 0.06886600695373095\n"
     ]
    }
   ],
   "source": [
    "import pandas as pd\n",
    "\n",
    "def calculate_sum_avg(filepath, *station_names):\n",
    "    data = pd.read_csv(filepath)\n",
    "    for station_name in station_names:\n",
    "        station_data = data[data['STATION'] == station_name]\n",
    "        PRCP_sum = station_data['PRCP'].sum()\n",
    "        PRCP_avg = station_data['PRCP'].mean()\n",
    "        print(f\"PRCP sum of {station_name} is {PRCP_sum}\")\n",
    "        print(f\"PRCP avg of {station_name} is {PRCP_avg}\")\n",
    "\n",
    "calculate_sum_avg('fargo_PRCP.csv', 'USW00014914', 'USC00215586')"
   ]
  },
  {
   "cell_type": "markdown",
   "metadata": {},
   "source": [
    "---"
   ]
  },
  {
   "cell_type": "markdown",
   "metadata": {},
   "source": [
    "# Sioux Falls"
   ]
  },
  {
   "cell_type": "code",
   "execution_count": 25,
   "metadata": {},
   "outputs": [
    {
     "name": "stdout",
     "output_type": "stream",
     "text": [
      "PRCP sum of USW00014944 is 391.15999999999997\n",
      "PRCP avg of USW00014944 is 0.07648807195932733\n",
      "PRCP sum of US1SDMH0020 is 304.75\n",
      "PRCP avg of US1SDMH0020 is 0.08702170188463736\n"
     ]
    }
   ],
   "source": [
    "import pandas as pd\n",
    "\n",
    "def calculate_sum_avg(filepath, *station_names):\n",
    "    data = pd.read_csv(filepath)\n",
    "    for station_name in station_names:\n",
    "        station_data = data[data['STATION'] == station_name]\n",
    "        PRCP_sum = station_data['PRCP'].sum()\n",
    "        PRCP_avg = station_data['PRCP'].mean()\n",
    "        print(f\"PRCP sum of {station_name} is {PRCP_sum}\")\n",
    "        print(f\"PRCP avg of {station_name} is {PRCP_avg}\")\n",
    "\n",
    "calculate_sum_avg('sioux falls_PRCP.csv', 'USW00014944', 'US1SDMH0020')"
   ]
  },
  {
   "cell_type": "markdown",
   "metadata": {},
   "source": [
    "---"
   ]
  },
  {
   "cell_type": "markdown",
   "metadata": {},
   "source": [
    "# Omaha"
   ]
  },
  {
   "cell_type": "code",
   "execution_count": 26,
   "metadata": {},
   "outputs": [
    {
     "name": "stdout",
     "output_type": "stream",
     "text": [
      "PRCP sum of USW00014942 is 446.71\n",
      "PRCP avg of USW00014942 is 0.08735041063746578\n",
      "PRCP sum of USC00253467 is 470.72\n",
      "PRCP avg of USC00253467 is 0.0920453656628862\n"
     ]
    },
    {
     "name": "stderr",
     "output_type": "stream",
     "text": [
      "/var/folders/72/fkccsf2x2cbbvby3pxzcnrv00000gn/T/ipykernel_73292/171273830.py:4: DtypeWarning: Columns (7,9) have mixed types. Specify dtype option on import or set low_memory=False.\n",
      "  data = pd.read_csv(filepath)\n"
     ]
    }
   ],
   "source": [
    "import pandas as pd\n",
    "\n",
    "def calculate_sum_avg(filepath, *station_names):\n",
    "    data = pd.read_csv(filepath)\n",
    "    for station_name in station_names:\n",
    "        station_data = data[data['STATION'] == station_name]\n",
    "        PRCP_sum = station_data['PRCP'].sum()\n",
    "        PRCP_avg = station_data['PRCP'].mean()\n",
    "        print(f\"PRCP sum of {station_name} is {PRCP_sum}\")\n",
    "        print(f\"PRCP avg of {station_name} is {PRCP_avg}\")\n",
    "\n",
    "calculate_sum_avg('omaha_PRCP.csv', 'USW00014942', 'USC00253467')"
   ]
  },
  {
   "cell_type": "markdown",
   "metadata": {},
   "source": [
    "---"
   ]
  },
  {
   "cell_type": "markdown",
   "metadata": {},
   "source": [
    "# Wichita"
   ]
  },
  {
   "cell_type": "code",
   "execution_count": 27,
   "metadata": {},
   "outputs": [
    {
     "name": "stdout",
     "output_type": "stream",
     "text": [
      "PRCP sum of USW00003928 is 503.71000000000004\n",
      "PRCP avg of USW00003928 is 0.09849628470864295\n",
      "PRCP sum of US1KSSG0002 is 393.17\n",
      "PRCP avg of US1KSSG0002 is 0.10225487646293889\n"
     ]
    },
    {
     "name": "stderr",
     "output_type": "stream",
     "text": [
      "/var/folders/72/fkccsf2x2cbbvby3pxzcnrv00000gn/T/ipykernel_73292/2689497356.py:4: DtypeWarning: Columns (7,9) have mixed types. Specify dtype option on import or set low_memory=False.\n",
      "  data = pd.read_csv(filepath)\n"
     ]
    }
   ],
   "source": [
    "import pandas as pd\n",
    "\n",
    "def calculate_sum_avg(filepath, *station_names):\n",
    "    data = pd.read_csv(filepath)\n",
    "    for station_name in station_names:\n",
    "        station_data = data[data['STATION'] == station_name]\n",
    "        PRCP_sum = station_data['PRCP'].sum()\n",
    "        PRCP_avg = station_data['PRCP'].mean()\n",
    "        print(f\"PRCP sum of {station_name} is {PRCP_sum}\")\n",
    "        print(f\"PRCP avg of {station_name} is {PRCP_avg}\")\n",
    "\n",
    "calculate_sum_avg('wichita_PRCP.csv', 'USW00003928', 'US1KSSG0002')"
   ]
  },
  {
   "cell_type": "markdown",
   "metadata": {},
   "source": [
    "---"
   ]
  },
  {
   "cell_type": "markdown",
   "metadata": {},
   "source": [
    "# Oklahoma City"
   ]
  },
  {
   "cell_type": "code",
   "execution_count": 28,
   "metadata": {},
   "outputs": [
    {
     "name": "stdout",
     "output_type": "stream",
     "text": [
      "PRCP sum of USW00013967 is 494.19\n",
      "PRCP avg of USW00013967 is 0.09663472819710599\n",
      "PRCP sum of USC00347068 is 233.39999999999998\n",
      "PRCP avg of USC00347068 is 0.09243564356435642\n"
     ]
    }
   ],
   "source": [
    "import pandas as pd\n",
    "\n",
    "def calculate_sum_avg(filepath, *station_names):\n",
    "    data = pd.read_csv(filepath)\n",
    "    for station_name in station_names:\n",
    "        station_data = data[data['STATION'] == station_name]\n",
    "        PRCP_sum = station_data['PRCP'].sum()\n",
    "        PRCP_avg = station_data['PRCP'].mean()\n",
    "        print(f\"PRCP sum of {station_name} is {PRCP_sum}\")\n",
    "        print(f\"PRCP avg of {station_name} is {PRCP_avg}\")\n",
    "\n",
    "calculate_sum_avg('oklahoma city_PRCP.csv', 'USW00013967', 'USC00347068')"
   ]
  },
  {
   "cell_type": "markdown",
   "metadata": {},
   "source": [
    "---"
   ]
  },
  {
   "cell_type": "markdown",
   "metadata": {},
   "source": [
    "# Dallas"
   ]
  },
  {
   "cell_type": "code",
   "execution_count": 29,
   "metadata": {},
   "outputs": [
    {
     "name": "stdout",
     "output_type": "stream",
     "text": [
      "PRCP sum of USW00013960 is 501.46000000000004\n",
      "PRCP avg of USW00013960 is 0.09805631599530701\n",
      "PRCP sum of USC00417588 is 549.5\n",
      "PRCP avg of USC00417588 is 0.10846821950256613\n"
     ]
    }
   ],
   "source": [
    "import pandas as pd\n",
    "\n",
    "def calculate_sum_avg(filepath, *station_names):\n",
    "    data = pd.read_csv(filepath)\n",
    "    for station_name in station_names:\n",
    "        station_data = data[data['STATION'] == station_name]\n",
    "        PRCP_sum = station_data['PRCP'].sum()\n",
    "        PRCP_avg = station_data['PRCP'].mean()\n",
    "        print(f\"PRCP sum of {station_name} is {PRCP_sum}\")\n",
    "        print(f\"PRCP avg of {station_name} is {PRCP_avg}\")\n",
    "\n",
    "calculate_sum_avg('dallas_PRCP.csv', 'USW00013960', 'USC00417588')"
   ]
  },
  {
   "cell_type": "markdown",
   "metadata": {},
   "source": [
    "---"
   ]
  },
  {
   "cell_type": "markdown",
   "metadata": {},
   "source": [
    "# Minneapolis, MN, USA"
   ]
  },
  {
   "cell_type": "code",
   "execution_count": 30,
   "metadata": {},
   "outputs": [
    {
     "name": "stdout",
     "output_type": "stream",
     "text": [
      "PRCP sum of USC00218450 is 267.94\n",
      "PRCP avg of USC00218450 is 0.09166609647622306\n",
      "PRCP sum of USC00211448 is 279.86\n",
      "PRCP avg of USC00211448 is 0.09574409852890867\n"
     ]
    },
    {
     "name": "stderr",
     "output_type": "stream",
     "text": [
      "/var/folders/72/fkccsf2x2cbbvby3pxzcnrv00000gn/T/ipykernel_73292/1155721863.py:4: DtypeWarning: Columns (7,9) have mixed types. Specify dtype option on import or set low_memory=False.\n",
      "  data = pd.read_csv(filepath)\n"
     ]
    }
   ],
   "source": [
    "import pandas as pd\n",
    "\n",
    "def calculate_sum_avg(filepath, *station_names):\n",
    "    data = pd.read_csv(filepath)\n",
    "    for station_name in station_names:\n",
    "        station_data = data[data['STATION'] == station_name]\n",
    "        PRCP_sum = station_data['PRCP'].sum()\n",
    "        PRCP_avg = station_data['PRCP'].mean()\n",
    "        print(f\"PRCP sum of {station_name} is {PRCP_sum}\")\n",
    "        print(f\"PRCP avg of {station_name} is {PRCP_avg}\")\n",
    "\n",
    "calculate_sum_avg('minneapolis_PRCP.csv', 'USC00218450', 'USC00211448')"
   ]
  },
  {
   "cell_type": "markdown",
   "metadata": {},
   "source": [
    "---"
   ]
  },
  {
   "cell_type": "markdown",
   "metadata": {},
   "source": [
    "# Des moines"
   ]
  },
  {
   "cell_type": "code",
   "execution_count": 31,
   "metadata": {},
   "outputs": [
    {
     "name": "stdout",
     "output_type": "stream",
     "text": [
      "PRCP sum of US1IAPK0001 is 319.4\n",
      "PRCP avg of US1IAPK0001 is 0.11203086636267975\n",
      "PRCP sum of US1IAPK0042 is 56.64000000000001\n",
      "PRCP avg of US1IAPK0042 is 0.17321100917431195\n"
     ]
    }
   ],
   "source": [
    "import pandas as pd\n",
    "\n",
    "def calculate_sum_avg(filepath, *station_names):\n",
    "    data = pd.read_csv(filepath)\n",
    "    for station_name in station_names:\n",
    "        station_data = data[data['STATION'] == station_name]\n",
    "        PRCP_sum = station_data['PRCP'].sum()\n",
    "        PRCP_avg = station_data['PRCP'].mean()\n",
    "        print(f\"PRCP sum of {station_name} is {PRCP_sum}\")\n",
    "        print(f\"PRCP avg of {station_name} is {PRCP_avg}\")\n",
    "\n",
    "calculate_sum_avg('des moines_PRCP.csv', 'US1IAPK0001', 'US1IAPK0042')"
   ]
  },
  {
   "cell_type": "markdown",
   "metadata": {},
   "source": [
    "---"
   ]
  },
  {
   "cell_type": "markdown",
   "metadata": {},
   "source": [
    "# St.Louis"
   ]
  },
  {
   "cell_type": "code",
   "execution_count": 32,
   "metadata": {},
   "outputs": [
    {
     "name": "stdout",
     "output_type": "stream",
     "text": [
      "PRCP sum of USW00013994 is 602.89\n",
      "PRCP avg of USW00013994 is 0.1178901055924912\n",
      "PRCP sum of US1ILSC0009 is 438.56000000000006\n",
      "PRCP avg of US1ILSC0009 is 0.1339932783379163\n"
     ]
    }
   ],
   "source": [
    "import pandas as pd\n",
    "\n",
    "def calculate_sum_avg(filepath, *station_names):\n",
    "    data = pd.read_csv(filepath)\n",
    "    for station_name in station_names:\n",
    "        station_data = data[data['STATION'] == station_name]\n",
    "        PRCP_sum = station_data['PRCP'].sum()\n",
    "        PRCP_avg = station_data['PRCP'].mean()\n",
    "        print(f\"PRCP sum of {station_name} is {PRCP_sum}\")\n",
    "        print(f\"PRCP avg of {station_name} is {PRCP_avg}\")\n",
    "\n",
    "calculate_sum_avg('st.louis_PRCP.csv', 'USW00013994', 'US1ILSC0009')"
   ]
  },
  {
   "cell_type": "markdown",
   "metadata": {},
   "source": [
    "---"
   ]
  },
  {
   "cell_type": "markdown",
   "metadata": {},
   "source": [
    "# Little Rock, AR, USA"
   ]
  },
  {
   "cell_type": "code",
   "execution_count": 34,
   "metadata": {},
   "outputs": [
    {
     "name": "stdout",
     "output_type": "stream",
     "text": [
      "PRCP sum of USW00003952 is 732.5799999999999\n",
      "PRCP avg of USW00003952 is 0.1432499022291748\n",
      "PRCP sum of USC00034010 is 675.56\n",
      "PRCP avg of USC00034010 is 0.13686385737439222\n"
     ]
    }
   ],
   "source": [
    "import pandas as pd\n",
    "\n",
    "def calculate_sum_avg(filepath, *station_names):\n",
    "    data = pd.read_csv(filepath)\n",
    "    for station_name in station_names:\n",
    "        station_data = data[data['STATION'] == station_name]\n",
    "        PRCP_sum = station_data['PRCP'].sum()\n",
    "        PRCP_avg = station_data['PRCP'].mean()\n",
    "        print(f\"PRCP sum of {station_name} is {PRCP_sum}\")\n",
    "        print(f\"PRCP avg of {station_name} is {PRCP_avg}\")\n",
    "\n",
    "calculate_sum_avg('littlerock_PRCP.csv', 'USW00003952', 'USC00034010')"
   ]
  },
  {
   "cell_type": "markdown",
   "metadata": {},
   "source": [
    "---"
   ]
  },
  {
   "cell_type": "markdown",
   "metadata": {},
   "source": [
    "# New Orleans, LA, USA"
   ]
  },
  {
   "cell_type": "code",
   "execution_count": 35,
   "metadata": {},
   "outputs": [
    {
     "name": "stdout",
     "output_type": "stream",
     "text": [
      "PRCP sum of USW00012916 is 871.09\n",
      "PRCP avg of USW00012916 is 0.17033437622213532\n",
      "PRCP sum of US1LAJF0001 is 590.22\n",
      "PRCP avg of US1LAJF0001 is 0.1801098565761367\n"
     ]
    }
   ],
   "source": [
    "import pandas as pd\n",
    "\n",
    "def calculate_sum_avg(filepath, *station_names):\n",
    "    data = pd.read_csv(filepath)\n",
    "    for station_name in station_names:\n",
    "        station_data = data[data['STATION'] == station_name]\n",
    "        PRCP_sum = station_data['PRCP'].sum()\n",
    "        PRCP_avg = station_data['PRCP'].mean()\n",
    "        print(f\"PRCP sum of {station_name} is {PRCP_sum}\")\n",
    "        print(f\"PRCP avg of {station_name} is {PRCP_avg}\")\n",
    "\n",
    "calculate_sum_avg('neworleans_PRCP.csv', 'USW00012916', 'US1LAJF0001')"
   ]
  },
  {
   "cell_type": "markdown",
   "metadata": {},
   "source": [
    "---\n"
   ]
  },
  {
   "cell_type": "markdown",
   "metadata": {},
   "source": [
    "# Milwaukee"
   ]
  },
  {
   "cell_type": "code",
   "execution_count": 36,
   "metadata": {},
   "outputs": [
    {
     "name": "stdout",
     "output_type": "stream",
     "text": [
      "PRCP sum of USC00479050 is 27.25\n",
      "PRCP avg of USC00479050 is 0.0815868263473054\n",
      "PRCP sum of USW00014839 is 464.49\n",
      "PRCP avg of USW00014839 is 0.09082714118107157\n"
     ]
    },
    {
     "name": "stderr",
     "output_type": "stream",
     "text": [
      "/var/folders/72/fkccsf2x2cbbvby3pxzcnrv00000gn/T/ipykernel_73292/2156802106.py:4: DtypeWarning: Columns (7) have mixed types. Specify dtype option on import or set low_memory=False.\n",
      "  data = pd.read_csv(filepath)\n"
     ]
    }
   ],
   "source": [
    "import pandas as pd\n",
    "\n",
    "def calculate_sum_avg(filepath, *station_names):\n",
    "    data = pd.read_csv(filepath)\n",
    "    for station_name in station_names:\n",
    "        station_data = data[data['STATION'] == station_name]\n",
    "        PRCP_sum = station_data['PRCP'].sum()\n",
    "        PRCP_avg = station_data['PRCP'].mean()\n",
    "        print(f\"PRCP sum of {station_name} is {PRCP_sum}\")\n",
    "        print(f\"PRCP avg of {station_name} is {PRCP_avg}\")\n",
    "\n",
    "calculate_sum_avg('milwaukee_PRCP.csv', 'USC00479050', 'USW00014839')"
   ]
  },
  {
   "cell_type": "markdown",
   "metadata": {},
   "source": [
    "---"
   ]
  },
  {
   "cell_type": "markdown",
   "metadata": {},
   "source": [
    "# Chicago"
   ]
  },
  {
   "cell_type": "code",
   "execution_count": 37,
   "metadata": {},
   "outputs": [
    {
     "name": "stdout",
     "output_type": "stream",
     "text": [
      "PRCP sum of USC00111577 is 584.0999999999999\n",
      "PRCP avg of USC00111577 is 0.11421587798201015\n",
      "PRCP sum of USW00094846 is 530.6000000000001\n",
      "PRCP avg of USW00094846 is 0.10375439968713339\n"
     ]
    },
    {
     "name": "stderr",
     "output_type": "stream",
     "text": [
      "/var/folders/72/fkccsf2x2cbbvby3pxzcnrv00000gn/T/ipykernel_73292/1777656690.py:4: DtypeWarning: Columns (7,9) have mixed types. Specify dtype option on import or set low_memory=False.\n",
      "  data = pd.read_csv(filepath)\n"
     ]
    }
   ],
   "source": [
    "import pandas as pd\n",
    "\n",
    "def calculate_sum_avg(filepath, *station_names):\n",
    "    data = pd.read_csv(filepath)\n",
    "    for station_name in station_names:\n",
    "        station_data = data[data['STATION'] == station_name]\n",
    "        PRCP_sum = station_data['PRCP'].sum()\n",
    "        PRCP_avg = station_data['PRCP'].mean()\n",
    "        print(f\"PRCP sum of {station_name} is {PRCP_sum}\")\n",
    "        print(f\"PRCP avg of {station_name} is {PRCP_avg}\")\n",
    "\n",
    "calculate_sum_avg('chicago_PRCP.csv', 'USC00111577', 'USW00094846')"
   ]
  },
  {
   "cell_type": "markdown",
   "metadata": {},
   "source": [
    "---"
   ]
  },
  {
   "cell_type": "markdown",
   "metadata": {},
   "source": [
    "# Jackson"
   ]
  },
  {
   "cell_type": "code",
   "execution_count": 38,
   "metadata": {},
   "outputs": [
    {
     "name": "stdout",
     "output_type": "stream",
     "text": [
      "PRCP sum of USW00003940 is 785.25\n",
      "PRCP avg of USW00003940 is 0.15354908095424324\n",
      "PRCP sum of US1MSRN0013 is 372.38\n",
      "PRCP avg of US1MSRN0013 is 0.16918673330304407\n"
     ]
    }
   ],
   "source": [
    "import pandas as pd\n",
    "\n",
    "def calculate_sum_avg(filepath, *station_names):\n",
    "    data = pd.read_csv(filepath)\n",
    "    for station_name in station_names:\n",
    "        station_data = data[data['STATION'] == station_name]\n",
    "        PRCP_sum = station_data['PRCP'].sum()\n",
    "        PRCP_avg = station_data['PRCP'].mean()\n",
    "        print(f\"PRCP sum of {station_name} is {PRCP_sum}\")\n",
    "        print(f\"PRCP avg of {station_name} is {PRCP_avg}\")\n",
    "\n",
    "calculate_sum_avg('jackson_PRCP.csv', 'USW00003940', 'US1MSRN0013')"
   ]
  },
  {
   "cell_type": "markdown",
   "metadata": {},
   "source": [
    "---"
   ]
  },
  {
   "cell_type": "markdown",
   "metadata": {},
   "source": [
    "# Detroit"
   ]
  },
  {
   "cell_type": "code",
   "execution_count": 39,
   "metadata": {},
   "outputs": [
    {
     "name": "stdout",
     "output_type": "stream",
     "text": [
      "PRCP sum of CA006139525 is 475.27\n",
      "PRCP avg of CA006139525 is 0.11073392357875116\n",
      "PRCP sum of USW00094847 is 482.89\n",
      "PRCP avg of USW00094847 is 0.0944251075479077\n"
     ]
    },
    {
     "name": "stderr",
     "output_type": "stream",
     "text": [
      "/var/folders/72/fkccsf2x2cbbvby3pxzcnrv00000gn/T/ipykernel_73292/2089852731.py:4: DtypeWarning: Columns (7,9) have mixed types. Specify dtype option on import or set low_memory=False.\n",
      "  data = pd.read_csv(filepath)\n"
     ]
    }
   ],
   "source": [
    "import pandas as pd\n",
    "\n",
    "def calculate_sum_avg(filepath, *station_names):\n",
    "    data = pd.read_csv(filepath)\n",
    "    for station_name in station_names:\n",
    "        station_data = data[data['STATION'] == station_name]\n",
    "        PRCP_sum = station_data['PRCP'].sum()\n",
    "        PRCP_avg = station_data['PRCP'].mean()\n",
    "        print(f\"PRCP sum of {station_name} is {PRCP_sum}\")\n",
    "        print(f\"PRCP avg of {station_name} is {PRCP_avg}\")\n",
    "\n",
    "calculate_sum_avg('detroit_PRCP.csv', 'CA006139525', 'USW00094847')"
   ]
  },
  {
   "cell_type": "markdown",
   "metadata": {},
   "source": [
    "---"
   ]
  },
  {
   "cell_type": "markdown",
   "metadata": {},
   "source": [
    "# Indianapolis, IN, USA"
   ]
  },
  {
   "cell_type": "code",
   "execution_count": 40,
   "metadata": {},
   "outputs": [
    {
     "name": "stdout",
     "output_type": "stream",
     "text": [
      "PRCP sum of USW00053866 is 613.5999999999999\n",
      "PRCP avg of USW00053866 is 0.12003129890453833\n",
      "PRCP sum of USW00093819 is 633.65\n",
      "PRCP avg of USW00093819 is 0.12390496675791943\n"
     ]
    },
    {
     "name": "stderr",
     "output_type": "stream",
     "text": [
      "/var/folders/72/fkccsf2x2cbbvby3pxzcnrv00000gn/T/ipykernel_73292/3933143664.py:4: DtypeWarning: Columns (7,9) have mixed types. Specify dtype option on import or set low_memory=False.\n",
      "  data = pd.read_csv(filepath)\n"
     ]
    }
   ],
   "source": [
    "import pandas as pd\n",
    "\n",
    "def calculate_sum_avg(filepath, *station_names):\n",
    "    data = pd.read_csv(filepath)\n",
    "    for station_name in station_names:\n",
    "        station_data = data[data['STATION'] == station_name]\n",
    "        PRCP_sum = station_data['PRCP'].sum()\n",
    "        PRCP_avg = station_data['PRCP'].mean()\n",
    "        print(f\"PRCP sum of {station_name} is {PRCP_sum}\")\n",
    "        print(f\"PRCP avg of {station_name} is {PRCP_avg}\")\n",
    "\n",
    "calculate_sum_avg('indianapolis_PRCP.csv', 'USW00053866', 'USW00093819')"
   ]
  },
  {
   "cell_type": "markdown",
   "metadata": {},
   "source": [
    "---"
   ]
  },
  {
   "cell_type": "markdown",
   "metadata": {},
   "source": [
    "# Louisville"
   ]
  },
  {
   "cell_type": "code",
   "execution_count": 41,
   "metadata": {},
   "outputs": [
    {
     "name": "stdout",
     "output_type": "stream",
     "text": [
      "PRCP sum of USW00093821 is 698.34\n",
      "PRCP avg of USW00093821 is 0.13655455612045367\n",
      "PRCP sum of US1INCK0014 is 32.97\n",
      "PRCP avg of US1INCK0014 is 0.257578125\n"
     ]
    }
   ],
   "source": [
    "import pandas as pd\n",
    "\n",
    "def calculate_sum_avg(filepath, *station_names):\n",
    "    data = pd.read_csv(filepath)\n",
    "    for station_name in station_names:\n",
    "        station_data = data[data['STATION'] == station_name]\n",
    "        PRCP_sum = station_data['PRCP'].sum()\n",
    "        PRCP_avg = station_data['PRCP'].mean()\n",
    "        print(f\"PRCP sum of {station_name} is {PRCP_sum}\")\n",
    "        print(f\"PRCP avg of {station_name} is {PRCP_avg}\")\n",
    "\n",
    "calculate_sum_avg('louisville_PRCP.csv', 'USW00093821', 'US1INCK0014')"
   ]
  },
  {
   "cell_type": "markdown",
   "metadata": {},
   "source": [
    "---"
   ]
  },
  {
   "cell_type": "markdown",
   "metadata": {},
   "source": [
    "# Nashville"
   ]
  },
  {
   "cell_type": "code",
   "execution_count": 42,
   "metadata": {},
   "outputs": [
    {
     "name": "stdout",
     "output_type": "stream",
     "text": [
      "PRCP sum of USW00013897 is 701.4200000000001\n",
      "PRCP avg of USW00013897 is 0.13715682440359797\n",
      "PRCP sum of US1TNWL0002 is 768.86\n",
      "PRCP avg of US1TNWL0002 is 0.1531593625498008\n"
     ]
    },
    {
     "name": "stderr",
     "output_type": "stream",
     "text": [
      "/var/folders/72/fkccsf2x2cbbvby3pxzcnrv00000gn/T/ipykernel_73292/1083996837.py:4: DtypeWarning: Columns (7,9) have mixed types. Specify dtype option on import or set low_memory=False.\n",
      "  data = pd.read_csv(filepath)\n"
     ]
    }
   ],
   "source": [
    "import pandas as pd\n",
    "\n",
    "def calculate_sum_avg(filepath, *station_names):\n",
    "    data = pd.read_csv(filepath)\n",
    "    for station_name in station_names:\n",
    "        station_data = data[data['STATION'] == station_name]\n",
    "        PRCP_sum = station_data['PRCP'].sum()\n",
    "        PRCP_avg = station_data['PRCP'].mean()\n",
    "        print(f\"PRCP sum of {station_name} is {PRCP_sum}\")\n",
    "        print(f\"PRCP avg of {station_name} is {PRCP_avg}\")\n",
    "\n",
    "calculate_sum_avg('nashville_PRCP.csv', 'USW00013897', 'US1TNWL0002')"
   ]
  },
  {
   "cell_type": "markdown",
   "metadata": {},
   "source": [
    "---"
   ]
  },
  {
   "cell_type": "markdown",
   "metadata": {},
   "source": [
    "# Birmingham"
   ]
  },
  {
   "cell_type": "code",
   "execution_count": 43,
   "metadata": {},
   "outputs": [
    {
     "name": "stdout",
     "output_type": "stream",
     "text": [
      "PRCP sum of USW00013876 is 762.71\n",
      "PRCP avg of USW00013876 is 0.149141572154869\n",
      "PRCP sum of US1ALSH0004 is 506.75000000000006\n",
      "PRCP avg of US1ALSH0004 is 0.17050807537012114\n"
     ]
    }
   ],
   "source": [
    "import pandas as pd\n",
    "\n",
    "def calculate_sum_avg(filepath, *station_names):\n",
    "    data = pd.read_csv(filepath)\n",
    "    for station_name in station_names:\n",
    "        station_data = data[data['STATION'] == station_name]\n",
    "        PRCP_sum = station_data['PRCP'].sum()\n",
    "        PRCP_avg = station_data['PRCP'].mean()\n",
    "        print(f\"PRCP sum of {station_name} is {PRCP_sum}\")\n",
    "        print(f\"PRCP avg of {station_name} is {PRCP_avg}\")\n",
    "\n",
    "calculate_sum_avg('birmingham_PRCP.csv', 'USW00013876', 'US1ALSH0004')"
   ]
  },
  {
   "cell_type": "markdown",
   "metadata": {},
   "source": [
    "---"
   ]
  },
  {
   "cell_type": "markdown",
   "metadata": {},
   "source": [
    "# Cincinnati"
   ]
  },
  {
   "cell_type": "code",
   "execution_count": 44,
   "metadata": {},
   "outputs": [
    {
     "name": "stdout",
     "output_type": "stream",
     "text": [
      "PRCP sum of USW00093814 is 636.45\n",
      "PRCP avg of USW00093814 is 0.12445248337895973\n",
      "PRCP sum of US1OHHM0003 is 374.98\n",
      "PRCP avg of US1OHHM0003 is 0.404073275862069\n"
     ]
    }
   ],
   "source": [
    "import pandas as pd\n",
    "\n",
    "def calculate_sum_avg(filepath, *station_names):\n",
    "    data = pd.read_csv(filepath)\n",
    "    for station_name in station_names:\n",
    "        station_data = data[data['STATION'] == station_name]\n",
    "        PRCP_sum = station_data['PRCP'].sum()\n",
    "        PRCP_avg = station_data['PRCP'].mean()\n",
    "        print(f\"PRCP sum of {station_name} is {PRCP_sum}\")\n",
    "        print(f\"PRCP avg of {station_name} is {PRCP_avg}\")\n",
    "\n",
    "calculate_sum_avg('cincinnati_PRCP.csv', 'USW00093814', 'US1OHHM0003')"
   ]
  },
  {
   "cell_type": "markdown",
   "metadata": {},
   "source": [
    "---"
   ]
  },
  {
   "cell_type": "markdown",
   "metadata": {},
   "source": [
    "# Huntington"
   ]
  },
  {
   "cell_type": "code",
   "execution_count": 45,
   "metadata": {},
   "outputs": [
    {
     "name": "stdout",
     "output_type": "stream",
     "text": [
      "PRCP sum of USW00003860 is 653.8299999999999\n",
      "PRCP avg of USW00003860 is 0.1278509972624169\n",
      "PRCP sum of US1KYBD0001 is 182.24\n",
      "PRCP avg of US1KYBD0001 is 0.1584695652173913\n"
     ]
    }
   ],
   "source": [
    "import pandas as pd\n",
    "\n",
    "def calculate_sum_avg(filepath, *station_names):\n",
    "    data = pd.read_csv(filepath)\n",
    "    for station_name in station_names:\n",
    "        station_data = data[data['STATION'] == station_name]\n",
    "        PRCP_sum = station_data['PRCP'].sum()\n",
    "        PRCP_avg = station_data['PRCP'].mean()\n",
    "        print(f\"PRCP sum of {station_name} is {PRCP_sum}\")\n",
    "        print(f\"PRCP avg of {station_name} is {PRCP_avg}\")\n",
    "\n",
    "calculate_sum_avg('huntington_PRCP.csv', 'USW00003860', 'US1KYBD0001')"
   ]
  },
  {
   "cell_type": "markdown",
   "metadata": {},
   "source": [
    "---"
   ]
  },
  {
   "cell_type": "markdown",
   "metadata": {},
   "source": [
    "# Atlanta"
   ]
  },
  {
   "cell_type": "code",
   "execution_count": 46,
   "metadata": {},
   "outputs": [
    {
     "name": "stdout",
     "output_type": "stream",
     "text": [
      "PRCP sum of USW00013874 is 699.2299999999999\n",
      "PRCP avg of USW00013874 is 0.1367285881892843\n",
      "PRCP sum of US1GAGW0005 is 252.76\n",
      "PRCP avg of US1GAGW0005 is 0.5265833333333333\n"
     ]
    }
   ],
   "source": [
    "import pandas as pd\n",
    "\n",
    "def calculate_sum_avg(filepath, *station_names):\n",
    "    data = pd.read_csv(filepath)\n",
    "    for station_name in station_names:\n",
    "        station_data = data[data['STATION'] == station_name]\n",
    "        PRCP_sum = station_data['PRCP'].sum()\n",
    "        PRCP_avg = station_data['PRCP'].mean()\n",
    "        print(f\"PRCP sum of {station_name} is {PRCP_sum}\")\n",
    "        print(f\"PRCP avg of {station_name} is {PRCP_avg}\")\n",
    "\n",
    "calculate_sum_avg('atlanta_PRCP.csv', 'USW00013874', 'US1GAGW0005')"
   ]
  },
  {
   "cell_type": "markdown",
   "metadata": {},
   "source": [
    "---"
   ]
  },
  {
   "cell_type": "markdown",
   "metadata": {},
   "source": [
    "# Portland ME"
   ]
  },
  {
   "cell_type": "code",
   "execution_count": 47,
   "metadata": {},
   "outputs": [
    {
     "name": "stdout",
     "output_type": "stream",
     "text": [
      "PRCP sum of USW00014764 is 717.89\n",
      "PRCP avg of USW00014764 is 0.14037739538521704\n",
      "PRCP sum of US1MECM0004 is 13.32\n",
      "PRCP avg of US1MECM0004 is 0.12220183486238533\n"
     ]
    }
   ],
   "source": [
    "import pandas as pd\n",
    "\n",
    "def calculate_sum_avg(filepath, *station_names):\n",
    "    data = pd.read_csv(filepath)\n",
    "    for station_name in station_names:\n",
    "        station_data = data[data['STATION'] == station_name]\n",
    "        PRCP_sum = station_data['PRCP'].sum()\n",
    "        PRCP_avg = station_data['PRCP'].mean()\n",
    "        print(f\"PRCP sum of {station_name} is {PRCP_sum}\")\n",
    "        print(f\"PRCP avg of {station_name} is {PRCP_avg}\")\n",
    "\n",
    "calculate_sum_avg('portland ME_PRCP.csv', 'USW00014764', 'US1MECM0004')"
   ]
  },
  {
   "cell_type": "markdown",
   "metadata": {},
   "source": [
    "---"
   ]
  },
  {
   "cell_type": "markdown",
   "metadata": {},
   "source": [
    "# Burlington"
   ]
  },
  {
   "cell_type": "code",
   "execution_count": 48,
   "metadata": {},
   "outputs": [
    {
     "name": "stdout",
     "output_type": "stream",
     "text": [
      "PRCP sum of USW00014742 is 553.05\n",
      "PRCP avg of USW00014742 is 0.10814430973797418\n",
      "PRCP sum of USC00437607 is 522.73\n",
      "PRCP avg of USC00437607 is 0.10221548689870943\n"
     ]
    }
   ],
   "source": [
    "import pandas as pd\n",
    "\n",
    "def calculate_sum_avg(filepath, *station_names):\n",
    "    data = pd.read_csv(filepath)\n",
    "    for station_name in station_names:\n",
    "        station_data = data[data['STATION'] == station_name]\n",
    "        PRCP_sum = station_data['PRCP'].sum()\n",
    "        PRCP_avg = station_data['PRCP'].mean()\n",
    "        print(f\"PRCP sum of {station_name} is {PRCP_sum}\")\n",
    "        print(f\"PRCP avg of {station_name} is {PRCP_avg}\")\n",
    "\n",
    "calculate_sum_avg('burlington_PRCP.csv', 'USW00014742', 'USC00437607')"
   ]
  },
  {
   "cell_type": "markdown",
   "metadata": {},
   "source": [
    "---"
   ]
  },
  {
   "cell_type": "markdown",
   "metadata": {},
   "source": [
    "# Nashua"
   ]
  },
  {
   "cell_type": "code",
   "execution_count": 49,
   "metadata": {},
   "outputs": [
    {
     "name": "stdout",
     "output_type": "stream",
     "text": [
      "PRCP sum of USC00272302 is 398.23\n",
      "PRCP avg of USC00272302 is 0.1282131358660657\n",
      "PRCP sum of US1MAMD0004 is 42.95\n",
      "PRCP avg of US1MAMD0004 is 0.17602459016393443\n"
     ]
    }
   ],
   "source": [
    "import pandas as pd\n",
    "\n",
    "def calculate_sum_avg(filepath, *station_names):\n",
    "    data = pd.read_csv(filepath)\n",
    "    for station_name in station_names:\n",
    "        station_data = data[data['STATION'] == station_name]\n",
    "        PRCP_sum = station_data['PRCP'].sum()\n",
    "        PRCP_avg = station_data['PRCP'].mean()\n",
    "        print(f\"PRCP sum of {station_name} is {PRCP_sum}\")\n",
    "        print(f\"PRCP avg of {station_name} is {PRCP_avg}\")\n",
    "\n",
    "calculate_sum_avg('nashua_PRCP.csv', 'USC00272302', 'US1MAMD0004')"
   ]
  },
  {
   "cell_type": "markdown",
   "metadata": {},
   "source": [
    "---"
   ]
  },
  {
   "cell_type": "markdown",
   "metadata": {},
   "source": [
    "# Boston"
   ]
  },
  {
   "cell_type": "code",
   "execution_count": 50,
   "metadata": {},
   "outputs": [
    {
     "name": "stdout",
     "output_type": "stream",
     "text": [
      "PRCP sum of USC00190860 is 705.6099999999999\n",
      "PRCP avg of USC00190860 is 0.13797614391865465\n",
      "PRCP sum of USC00190535 is 336.46000000000004\n",
      "PRCP avg of USC00190535 is 0.14552768166089966\n"
     ]
    },
    {
     "name": "stderr",
     "output_type": "stream",
     "text": [
      "/var/folders/72/fkccsf2x2cbbvby3pxzcnrv00000gn/T/ipykernel_73292/2761318405.py:4: DtypeWarning: Columns (7,9) have mixed types. Specify dtype option on import or set low_memory=False.\n",
      "  data = pd.read_csv(filepath)\n"
     ]
    }
   ],
   "source": [
    "import pandas as pd\n",
    "\n",
    "def calculate_sum_avg(filepath, *station_names):\n",
    "    data = pd.read_csv(filepath)\n",
    "    for station_name in station_names:\n",
    "        station_data = data[data['STATION'] == station_name]\n",
    "        PRCP_sum = station_data['PRCP'].sum()\n",
    "        PRCP_avg = station_data['PRCP'].mean()\n",
    "        print(f\"PRCP sum of {station_name} is {PRCP_sum}\")\n",
    "        print(f\"PRCP avg of {station_name} is {PRCP_avg}\")\n",
    "\n",
    "calculate_sum_avg('boston_PRCP.csv', 'USC00190860', 'USC00190535')"
   ]
  },
  {
   "cell_type": "markdown",
   "metadata": {},
   "source": [
    "---"
   ]
  },
  {
   "cell_type": "markdown",
   "metadata": {},
   "source": [
    "# Providence"
   ]
  },
  {
   "cell_type": "code",
   "execution_count": 51,
   "metadata": {},
   "outputs": [
    {
     "name": "stdout",
     "output_type": "stream",
     "text": [
      "PRCP sum of USW00014765 is 687.28\n",
      "PRCP avg of USW00014765 is 0.13439186546734455\n",
      "PRCP sum of US1RIWS0004 is 31.85\n",
      "PRCP avg of US1RIWS0004 is 0.19782608695652174\n"
     ]
    }
   ],
   "source": [
    "import pandas as pd\n",
    "\n",
    "def calculate_sum_avg(filepath, *station_names):\n",
    "    data = pd.read_csv(filepath)\n",
    "    for station_name in station_names:\n",
    "        station_data = data[data['STATION'] == station_name]\n",
    "        PRCP_sum = station_data['PRCP'].sum()\n",
    "        PRCP_avg = station_data['PRCP'].mean()\n",
    "        print(f\"PRCP sum of {station_name} is {PRCP_sum}\")\n",
    "        print(f\"PRCP avg of {station_name} is {PRCP_avg}\")\n",
    "\n",
    "calculate_sum_avg('providence_PRCP.csv', 'USW00014765', 'US1RIWS0004')"
   ]
  },
  {
   "cell_type": "markdown",
   "metadata": {},
   "source": [
    "---"
   ]
  },
  {
   "cell_type": "markdown",
   "metadata": {},
   "source": [
    "# New York"
   ]
  },
  {
   "cell_type": "code",
   "execution_count": 52,
   "metadata": {},
   "outputs": [
    {
     "name": "stdout",
     "output_type": "stream",
     "text": [
      "PRCP sum of USC00305796 is 225.82\n",
      "PRCP avg of USC00305796 is 0.14866359447004607\n",
      "PRCP sum of USW00014732 is 663.22\n",
      "PRCP avg of USW00014732 is 0.12968713335940557\n"
     ]
    },
    {
     "name": "stderr",
     "output_type": "stream",
     "text": [
      "/var/folders/72/fkccsf2x2cbbvby3pxzcnrv00000gn/T/ipykernel_73292/3272144570.py:4: DtypeWarning: Columns (7,9) have mixed types. Specify dtype option on import or set low_memory=False.\n",
      "  data = pd.read_csv(filepath)\n"
     ]
    }
   ],
   "source": [
    "import pandas as pd\n",
    "\n",
    "def calculate_sum_avg(filepath, *station_names):\n",
    "    data = pd.read_csv(filepath)\n",
    "    for station_name in station_names:\n",
    "        station_data = data[data['STATION'] == station_name]\n",
    "        PRCP_sum = station_data['PRCP'].sum()\n",
    "        PRCP_avg = station_data['PRCP'].mean()\n",
    "        print(f\"PRCP sum of {station_name} is {PRCP_sum}\")\n",
    "        print(f\"PRCP avg of {station_name} is {PRCP_avg}\")\n",
    "\n",
    "calculate_sum_avg('newyork_PRCP.csv', 'USC00305796', 'USW00014732')"
   ]
  },
  {
   "cell_type": "markdown",
   "metadata": {},
   "source": [
    "---"
   ]
  },
  {
   "cell_type": "markdown",
   "metadata": {},
   "source": [
    "# Bridgeport"
   ]
  },
  {
   "cell_type": "code",
   "execution_count": 53,
   "metadata": {},
   "outputs": [
    {
     "name": "stdout",
     "output_type": "stream",
     "text": [
      "PRCP sum of USW00094702 is 628.6300000000001\n",
      "PRCP avg of USW00094702 is 0.12292334767305438\n",
      "PRCP sum of USC00067157 is 54.67\n",
      "PRCP avg of USC00067157 is 0.16319402985074627\n"
     ]
    }
   ],
   "source": [
    "import pandas as pd\n",
    "\n",
    "def calculate_sum_avg(filepath, *station_names):\n",
    "    data = pd.read_csv(filepath)\n",
    "    for station_name in station_names:\n",
    "        station_data = data[data['STATION'] == station_name]\n",
    "        PRCP_sum = station_data['PRCP'].sum()\n",
    "        PRCP_avg = station_data['PRCP'].mean()\n",
    "        print(f\"PRCP sum of {station_name} is {PRCP_sum}\")\n",
    "        print(f\"PRCP avg of {station_name} is {PRCP_avg}\")\n",
    "\n",
    "calculate_sum_avg('bridgeport_PRCP.csv', 'USW00094702', 'USC00067157')"
   ]
  },
  {
   "cell_type": "markdown",
   "metadata": {},
   "source": [
    "---"
   ]
  },
  {
   "cell_type": "markdown",
   "metadata": {},
   "source": [
    "# Philadelphia"
   ]
  },
  {
   "cell_type": "code",
   "execution_count": 54,
   "metadata": {},
   "outputs": [
    {
     "name": "stdout",
     "output_type": "stream",
     "text": [
      "PRCP sum of USW00013781 is 661.64\n",
      "PRCP avg of USW00013781 is 0.12937817755181855\n",
      "PRCP sum of US1PABK0015 is 721.84\n",
      "PRCP avg of US1PABK0015 is 0.1411497849041846\n"
     ]
    },
    {
     "name": "stderr",
     "output_type": "stream",
     "text": [
      "/var/folders/72/fkccsf2x2cbbvby3pxzcnrv00000gn/T/ipykernel_73292/542925654.py:4: DtypeWarning: Columns (7,9) have mixed types. Specify dtype option on import or set low_memory=False.\n",
      "  data = pd.read_csv(filepath)\n"
     ]
    }
   ],
   "source": [
    "import pandas as pd\n",
    "\n",
    "def calculate_sum_avg(filepath, *station_names):\n",
    "    data = pd.read_csv(filepath)\n",
    "    for station_name in station_names:\n",
    "        station_data = data[data['STATION'] == station_name]\n",
    "        PRCP_sum = station_data['PRCP'].sum()\n",
    "        PRCP_avg = station_data['PRCP'].mean()\n",
    "        print(f\"PRCP sum of {station_name} is {PRCP_sum}\")\n",
    "        print(f\"PRCP avg of {station_name} is {PRCP_avg}\")\n",
    "\n",
    "calculate_sum_avg('philadelphia_PRCP.csv', 'USW00013781', 'US1PABK0015')"
   ]
  },
  {
   "cell_type": "markdown",
   "metadata": {},
   "source": [
    "---"
   ]
  },
  {
   "cell_type": "markdown",
   "metadata": {},
   "source": [
    "# Trenton"
   ]
  },
  {
   "cell_type": "code",
   "execution_count": 55,
   "metadata": {},
   "outputs": [
    {
     "name": "stdout",
     "output_type": "stream",
     "text": [
      "PRCP sum of USC00288880 is 42.74\n",
      "PRCP avg of USC00288880 is 0.1405921052631579\n",
      "PRCP sum of USW00014792 is 650.9100000000001\n",
      "PRCP avg of USW00014792 is 0.12728001564333205\n"
     ]
    }
   ],
   "source": [
    "import pandas as pd\n",
    "\n",
    "def calculate_sum_avg(filepath, *station_names):\n",
    "    data = pd.read_csv(filepath)\n",
    "    for station_name in station_names:\n",
    "        station_data = data[data['STATION'] == station_name]\n",
    "        PRCP_sum = station_data['PRCP'].sum()\n",
    "        PRCP_avg = station_data['PRCP'].mean()\n",
    "        print(f\"PRCP sum of {station_name} is {PRCP_sum}\")\n",
    "        print(f\"PRCP avg of {station_name} is {PRCP_avg}\")\n",
    "\n",
    "calculate_sum_avg('trenton_PRCP.csv', 'USC00288880', 'USW00014792')"
   ]
  },
  {
   "cell_type": "markdown",
   "metadata": {},
   "source": [
    "---"
   ]
  },
  {
   "cell_type": "markdown",
   "metadata": {},
   "source": [
    "# Dover"
   ]
  },
  {
   "cell_type": "code",
   "execution_count": 56,
   "metadata": {},
   "outputs": [
    {
     "name": "stdout",
     "output_type": "stream",
     "text": [
      "PRCP sum of USC00078508 is 27.23\n",
      "PRCP avg of USC00078508 is 0.12784037558685446\n",
      "PRCP sum of US1DEKN0015 is 36.269999999999996\n",
      "PRCP avg of US1DEKN0015 is 0.22955696202531642\n"
     ]
    }
   ],
   "source": [
    "import pandas as pd\n",
    "\n",
    "def calculate_sum_avg(filepath, *station_names):\n",
    "    data = pd.read_csv(filepath)\n",
    "    for station_name in station_names:\n",
    "        station_data = data[data['STATION'] == station_name]\n",
    "        PRCP_sum = station_data['PRCP'].sum()\n",
    "        PRCP_avg = station_data['PRCP'].mean()\n",
    "        print(f\"PRCP sum of {station_name} is {PRCP_sum}\")\n",
    "        print(f\"PRCP avg of {station_name} is {PRCP_avg}\")\n",
    "\n",
    "calculate_sum_avg('dover_PRCP.csv', 'USC00078508', 'US1DEKN0015')"
   ]
  },
  {
   "cell_type": "markdown",
   "metadata": {},
   "source": [
    "---"
   ]
  },
  {
   "cell_type": "markdown",
   "metadata": {},
   "source": [
    "# Baltimore"
   ]
  },
  {
   "cell_type": "code",
   "execution_count": 57,
   "metadata": {},
   "outputs": [
    {
     "name": "stdout",
     "output_type": "stream",
     "text": [
      "PRCP sum of USW00093721 is 660.8100000000001\n",
      "PRCP avg of USW00093721 is 0.12921587798201017\n",
      "PRCP sum of USC00185934 is 705.89\n",
      "PRCP avg of USC00185934 is 0.1380308955807587\n"
     ]
    },
    {
     "name": "stderr",
     "output_type": "stream",
     "text": [
      "/var/folders/72/fkccsf2x2cbbvby3pxzcnrv00000gn/T/ipykernel_73292/2229405288.py:4: DtypeWarning: Columns (7,9) have mixed types. Specify dtype option on import or set low_memory=False.\n",
      "  data = pd.read_csv(filepath)\n"
     ]
    }
   ],
   "source": [
    "import pandas as pd\n",
    "\n",
    "def calculate_sum_avg(filepath, *station_names):\n",
    "    data = pd.read_csv(filepath)\n",
    "    for station_name in station_names:\n",
    "        station_data = data[data['STATION'] == station_name]\n",
    "        PRCP_sum = station_data['PRCP'].sum()\n",
    "        PRCP_avg = station_data['PRCP'].mean()\n",
    "        print(f\"PRCP sum of {station_name} is {PRCP_sum}\")\n",
    "        print(f\"PRCP avg of {station_name} is {PRCP_avg}\")\n",
    "\n",
    "calculate_sum_avg('baltimore_PRCP.csv', 'USW00093721', 'USC00185934')"
   ]
  },
  {
   "cell_type": "markdown",
   "metadata": {},
   "source": [
    "---"
   ]
  },
  {
   "cell_type": "markdown",
   "metadata": {},
   "source": [
    "# Virginia Beach"
   ]
  },
  {
   "cell_type": "code",
   "execution_count": 58,
   "metadata": {},
   "outputs": [
    {
     "name": "stdout",
     "output_type": "stream",
     "text": [
      "PRCP sum of USC00446147 is 761.79\n",
      "PRCP avg of USC00446147 is 0.15260216346153846\n",
      "PRCP sum of US1VAVBC002 is 559.87\n",
      "PRCP avg of US1VAVBC002 is 0.4095610826627652\n"
     ]
    }
   ],
   "source": [
    "import pandas as pd\n",
    "\n",
    "def calculate_sum_avg(filepath, *station_names):\n",
    "    data = pd.read_csv(filepath)\n",
    "    for station_name in station_names:\n",
    "        station_data = data[data['STATION'] == station_name]\n",
    "        PRCP_sum = station_data['PRCP'].sum()\n",
    "        PRCP_avg = station_data['PRCP'].mean()\n",
    "        print(f\"PRCP sum of {station_name} is {PRCP_sum}\")\n",
    "        print(f\"PRCP avg of {station_name} is {PRCP_avg}\")\n",
    "\n",
    "calculate_sum_avg('virginiabeach_PRCP.csv', 'USC00446147', 'US1VAVBC002')"
   ]
  },
  {
   "cell_type": "markdown",
   "metadata": {},
   "source": [
    "---"
   ]
  },
  {
   "cell_type": "markdown",
   "metadata": {},
   "source": [
    "# Charlotte"
   ]
  },
  {
   "cell_type": "code",
   "execution_count": 59,
   "metadata": {},
   "outputs": [
    {
     "name": "stdout",
     "output_type": "stream",
     "text": [
      "PRCP sum of USW00013881 is 604.78\n",
      "PRCP avg of USW00013881 is 0.11825967931169339\n",
      "PRCP sum of US1NCLN0008 is 120.10999999999999\n",
      "PRCP avg of US1NCLN0008 is 0.13758304696449025\n"
     ]
    },
    {
     "name": "stderr",
     "output_type": "stream",
     "text": [
      "/var/folders/72/fkccsf2x2cbbvby3pxzcnrv00000gn/T/ipykernel_73292/1945178542.py:4: DtypeWarning: Columns (9) have mixed types. Specify dtype option on import or set low_memory=False.\n",
      "  data = pd.read_csv(filepath)\n"
     ]
    }
   ],
   "source": [
    "import pandas as pd\n",
    "\n",
    "def calculate_sum_avg(filepath, *station_names):\n",
    "    data = pd.read_csv(filepath)\n",
    "    for station_name in station_names:\n",
    "        station_data = data[data['STATION'] == station_name]\n",
    "        PRCP_sum = station_data['PRCP'].sum()\n",
    "        PRCP_avg = station_data['PRCP'].mean()\n",
    "        print(f\"PRCP sum of {station_name} is {PRCP_sum}\")\n",
    "        print(f\"PRCP avg of {station_name} is {PRCP_avg}\")\n",
    "\n",
    "calculate_sum_avg('charlotte_PRCP.csv', 'USW00013881', 'US1NCLN0008')"
   ]
  },
  {
   "cell_type": "markdown",
   "metadata": {},
   "source": [
    "---"
   ]
  },
  {
   "cell_type": "markdown",
   "metadata": {},
   "source": [
    "# Charleston"
   ]
  },
  {
   "cell_type": "code",
   "execution_count": 60,
   "metadata": {},
   "outputs": [
    {
     "name": "stdout",
     "output_type": "stream",
     "text": [
      "PRCP sum of USW00013880 is 715.1800000000001\n",
      "PRCP avg of USW00013880 is 0.13984747751271023\n",
      "PRCP sum of USW00013782 is 605.6700000000001\n",
      "PRCP avg of USW00013782 is 0.1187122696981576\n"
     ]
    }
   ],
   "source": [
    "import pandas as pd\n",
    "\n",
    "def calculate_sum_avg(filepath, *station_names):\n",
    "    data = pd.read_csv(filepath)\n",
    "    for station_name in station_names:\n",
    "        station_data = data[data['STATION'] == station_name]\n",
    "        PRCP_sum = station_data['PRCP'].sum()\n",
    "        PRCP_avg = station_data['PRCP'].mean()\n",
    "        print(f\"PRCP sum of {station_name} is {PRCP_sum}\")\n",
    "        print(f\"PRCP avg of {station_name} is {PRCP_avg}\")\n",
    "\n",
    "calculate_sum_avg('charleston_PRCP.csv', 'USW00013880', 'USW00013782')"
   ]
  },
  {
   "cell_type": "markdown",
   "metadata": {},
   "source": [
    "---"
   ]
  },
  {
   "cell_type": "markdown",
   "metadata": {},
   "source": [
    "# Miami"
   ]
  },
  {
   "cell_type": "code",
   "execution_count": 61,
   "metadata": {},
   "outputs": [
    {
     "name": "stdout",
     "output_type": "stream",
     "text": [
      "PRCP sum of USW00012839 is 913.1199999999999\n",
      "PRCP avg of USW00012839 is 0.17855299178725068\n",
      "PRCP sum of USC00085667 is 955.0199999999999\n",
      "PRCP avg of USC00085667 is 0.18674618693781772\n"
     ]
    }
   ],
   "source": [
    "import pandas as pd\n",
    "\n",
    "def calculate_sum_avg(filepath, *station_names):\n",
    "    data = pd.read_csv(filepath)\n",
    "    for station_name in station_names:\n",
    "        station_data = data[data['STATION'] == station_name]\n",
    "        PRCP_sum = station_data['PRCP'].sum()\n",
    "        PRCP_avg = station_data['PRCP'].mean()\n",
    "        print(f\"PRCP sum of {station_name} is {PRCP_sum}\")\n",
    "        print(f\"PRCP avg of {station_name} is {PRCP_avg}\")\n",
    "\n",
    "calculate_sum_avg('miami_PRCP.csv', 'USW00012839', 'USC00085667')"
   ]
  },
  {
   "cell_type": "markdown",
   "metadata": {},
   "source": []
  }
 ],
 "metadata": {
  "kernelspec": {
   "display_name": "neural_network",
   "language": "python",
   "name": "python3"
  },
  "language_info": {
   "codemirror_mode": {
    "name": "ipython",
    "version": 3
   },
   "file_extension": ".py",
   "mimetype": "text/x-python",
   "name": "python",
   "nbconvert_exporter": "python",
   "pygments_lexer": "ipython3",
   "version": "3.10.4"
  },
  "orig_nbformat": 4
 },
 "nbformat": 4,
 "nbformat_minor": 2
}
